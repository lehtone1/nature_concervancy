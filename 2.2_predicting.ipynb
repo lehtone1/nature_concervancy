{
 "cells": [
  {
   "cell_type": "code",
   "execution_count": 1,
   "metadata": {},
   "outputs": [
    {
     "name": "stderr",
     "output_type": "stream",
     "text": [
      "/opt/conda/lib/python3.7/site-packages/fastbook/__init__.py:22: UserWarning: Missing `graphviz` - please run `conda install fastbook`\n",
      "  except ModuleNotFoundError: warn(\"Missing `graphviz` - please run `conda install fastbook`\")\n"
     ]
    }
   ],
   "source": [
    "!pip install -Uqq fastbook\n",
    "import fastbook\n",
    "fastbook.setup_book()"
   ]
  },
  {
   "cell_type": "code",
   "execution_count": 2,
   "metadata": {},
   "outputs": [],
   "source": [
    "from fastbook import * "
   ]
  },
  {
   "cell_type": "code",
   "execution_count": 3,
   "metadata": {},
   "outputs": [],
   "source": [
    "import pandas as pd\n",
    "import re"
   ]
  },
  {
   "cell_type": "code",
   "execution_count": 26,
   "metadata": {},
   "outputs": [
    {
     "data": {
      "text/html": [
       "<div>\n",
       "<style scoped>\n",
       "    .dataframe tbody tr th:only-of-type {\n",
       "        vertical-align: middle;\n",
       "    }\n",
       "\n",
       "    .dataframe tbody tr th {\n",
       "        vertical-align: top;\n",
       "    }\n",
       "\n",
       "    .dataframe thead th {\n",
       "        text-align: right;\n",
       "    }\n",
       "</style>\n",
       "<table border=\"1\" class=\"dataframe\">\n",
       "  <thead>\n",
       "    <tr style=\"text-align: right;\">\n",
       "      <th></th>\n",
       "      <th>image</th>\n",
       "      <th>ALB</th>\n",
       "      <th>BET</th>\n",
       "      <th>DOL</th>\n",
       "      <th>LAG</th>\n",
       "      <th>NoF</th>\n",
       "      <th>OTHER</th>\n",
       "      <th>SHARK</th>\n",
       "      <th>YFT</th>\n",
       "    </tr>\n",
       "  </thead>\n",
       "  <tbody>\n",
       "    <tr>\n",
       "      <th>0</th>\n",
       "      <td>img_00005.jpg</td>\n",
       "      <td>0.455003</td>\n",
       "      <td>0.052938</td>\n",
       "      <td>0.030969</td>\n",
       "      <td>0.017734</td>\n",
       "      <td>0.123081</td>\n",
       "      <td>0.079142</td>\n",
       "      <td>0.046585</td>\n",
       "      <td>0.194283</td>\n",
       "    </tr>\n",
       "    <tr>\n",
       "      <th>1</th>\n",
       "      <td>img_00007.jpg</td>\n",
       "      <td>0.455003</td>\n",
       "      <td>0.052938</td>\n",
       "      <td>0.030969</td>\n",
       "      <td>0.017734</td>\n",
       "      <td>0.123081</td>\n",
       "      <td>0.079142</td>\n",
       "      <td>0.046585</td>\n",
       "      <td>0.194283</td>\n",
       "    </tr>\n",
       "    <tr>\n",
       "      <th>2</th>\n",
       "      <td>img_00009.jpg</td>\n",
       "      <td>0.455003</td>\n",
       "      <td>0.052938</td>\n",
       "      <td>0.030969</td>\n",
       "      <td>0.017734</td>\n",
       "      <td>0.123081</td>\n",
       "      <td>0.079142</td>\n",
       "      <td>0.046585</td>\n",
       "      <td>0.194283</td>\n",
       "    </tr>\n",
       "    <tr>\n",
       "      <th>3</th>\n",
       "      <td>img_00018.jpg</td>\n",
       "      <td>0.455003</td>\n",
       "      <td>0.052938</td>\n",
       "      <td>0.030969</td>\n",
       "      <td>0.017734</td>\n",
       "      <td>0.123081</td>\n",
       "      <td>0.079142</td>\n",
       "      <td>0.046585</td>\n",
       "      <td>0.194283</td>\n",
       "    </tr>\n",
       "    <tr>\n",
       "      <th>4</th>\n",
       "      <td>img_00027.jpg</td>\n",
       "      <td>0.455003</td>\n",
       "      <td>0.052938</td>\n",
       "      <td>0.030969</td>\n",
       "      <td>0.017734</td>\n",
       "      <td>0.123081</td>\n",
       "      <td>0.079142</td>\n",
       "      <td>0.046585</td>\n",
       "      <td>0.194283</td>\n",
       "    </tr>\n",
       "    <tr>\n",
       "      <th>...</th>\n",
       "      <td>...</td>\n",
       "      <td>...</td>\n",
       "      <td>...</td>\n",
       "      <td>...</td>\n",
       "      <td>...</td>\n",
       "      <td>...</td>\n",
       "      <td>...</td>\n",
       "      <td>...</td>\n",
       "      <td>...</td>\n",
       "    </tr>\n",
       "    <tr>\n",
       "      <th>13148</th>\n",
       "      <td>test_stg2/image_12149.jpg</td>\n",
       "      <td>0.455003</td>\n",
       "      <td>0.052938</td>\n",
       "      <td>0.030969</td>\n",
       "      <td>0.017734</td>\n",
       "      <td>0.123081</td>\n",
       "      <td>0.079142</td>\n",
       "      <td>0.046585</td>\n",
       "      <td>0.194283</td>\n",
       "    </tr>\n",
       "    <tr>\n",
       "      <th>13149</th>\n",
       "      <td>test_stg2/image_12150.jpg</td>\n",
       "      <td>0.455003</td>\n",
       "      <td>0.052938</td>\n",
       "      <td>0.030969</td>\n",
       "      <td>0.017734</td>\n",
       "      <td>0.123081</td>\n",
       "      <td>0.079142</td>\n",
       "      <td>0.046585</td>\n",
       "      <td>0.194283</td>\n",
       "    </tr>\n",
       "    <tr>\n",
       "      <th>13150</th>\n",
       "      <td>test_stg2/image_12151.jpg</td>\n",
       "      <td>0.455003</td>\n",
       "      <td>0.052938</td>\n",
       "      <td>0.030969</td>\n",
       "      <td>0.017734</td>\n",
       "      <td>0.123081</td>\n",
       "      <td>0.079142</td>\n",
       "      <td>0.046585</td>\n",
       "      <td>0.194283</td>\n",
       "    </tr>\n",
       "    <tr>\n",
       "      <th>13151</th>\n",
       "      <td>test_stg2/image_12152.jpg</td>\n",
       "      <td>0.455003</td>\n",
       "      <td>0.052938</td>\n",
       "      <td>0.030969</td>\n",
       "      <td>0.017734</td>\n",
       "      <td>0.123081</td>\n",
       "      <td>0.079142</td>\n",
       "      <td>0.046585</td>\n",
       "      <td>0.194283</td>\n",
       "    </tr>\n",
       "    <tr>\n",
       "      <th>13152</th>\n",
       "      <td>test_stg2/image_12153.jpg</td>\n",
       "      <td>0.455003</td>\n",
       "      <td>0.052938</td>\n",
       "      <td>0.030969</td>\n",
       "      <td>0.017734</td>\n",
       "      <td>0.123081</td>\n",
       "      <td>0.079142</td>\n",
       "      <td>0.046585</td>\n",
       "      <td>0.194283</td>\n",
       "    </tr>\n",
       "  </tbody>\n",
       "</table>\n",
       "<p>13153 rows × 9 columns</p>\n",
       "</div>"
      ],
      "text/plain": [
       "                           image       ALB       BET       DOL       LAG  \\\n",
       "0                  img_00005.jpg  0.455003  0.052938  0.030969  0.017734   \n",
       "1                  img_00007.jpg  0.455003  0.052938  0.030969  0.017734   \n",
       "2                  img_00009.jpg  0.455003  0.052938  0.030969  0.017734   \n",
       "3                  img_00018.jpg  0.455003  0.052938  0.030969  0.017734   \n",
       "4                  img_00027.jpg  0.455003  0.052938  0.030969  0.017734   \n",
       "...                          ...       ...       ...       ...       ...   \n",
       "13148  test_stg2/image_12149.jpg  0.455003  0.052938  0.030969  0.017734   \n",
       "13149  test_stg2/image_12150.jpg  0.455003  0.052938  0.030969  0.017734   \n",
       "13150  test_stg2/image_12151.jpg  0.455003  0.052938  0.030969  0.017734   \n",
       "13151  test_stg2/image_12152.jpg  0.455003  0.052938  0.030969  0.017734   \n",
       "13152  test_stg2/image_12153.jpg  0.455003  0.052938  0.030969  0.017734   \n",
       "\n",
       "            NoF     OTHER     SHARK       YFT  \n",
       "0      0.123081  0.079142  0.046585  0.194283  \n",
       "1      0.123081  0.079142  0.046585  0.194283  \n",
       "2      0.123081  0.079142  0.046585  0.194283  \n",
       "3      0.123081  0.079142  0.046585  0.194283  \n",
       "4      0.123081  0.079142  0.046585  0.194283  \n",
       "...         ...       ...       ...       ...  \n",
       "13148  0.123081  0.079142  0.046585  0.194283  \n",
       "13149  0.123081  0.079142  0.046585  0.194283  \n",
       "13150  0.123081  0.079142  0.046585  0.194283  \n",
       "13151  0.123081  0.079142  0.046585  0.194283  \n",
       "13152  0.123081  0.079142  0.046585  0.194283  \n",
       "\n",
       "[13153 rows x 9 columns]"
      ]
     },
     "execution_count": 26,
     "metadata": {},
     "output_type": "execute_result"
    }
   ],
   "source": [
    "sample_sub = pd.read_csv(\"data/sample_submission_stg2.csv\"); sample_sub"
   ]
  },
  {
   "cell_type": "code",
   "execution_count": 5,
   "metadata": {},
   "outputs": [
    {
     "data": {
      "text/plain": [
       "Index(['image', 'ALB', 'BET', 'DOL', 'LAG', 'NoF', 'OTHER', 'SHARK', 'YFT'], dtype='object')"
      ]
     },
     "execution_count": 5,
     "metadata": {},
     "output_type": "execute_result"
    }
   ],
   "source": [
    "sample_sub.columns"
   ]
  },
  {
   "cell_type": "markdown",
   "metadata": {},
   "source": [
    "# Load Data and Model"
   ]
  },
  {
   "cell_type": "code",
   "execution_count": 33,
   "metadata": {},
   "outputs": [],
   "source": [
    "dls = ImageDataLoaders.from_folder(path = \"data/train\",\n",
    "                                  valid_pct = 0.2, \n",
    "                                  seed = 1991,\n",
    "                                  item_tfms = Resize(448),\n",
    "                                  batch_tfms = aug_transforms(),\n",
    "                                  bs = 64)"
   ]
  },
  {
   "cell_type": "code",
   "execution_count": 48,
   "metadata": {},
   "outputs": [
    {
     "data": {
      "text/plain": [
       "(#8) ['ALB','BET','DOL','LAG','NoF','OTHER','SHARK','YFT']"
      ]
     },
     "execution_count": 48,
     "metadata": {},
     "output_type": "execute_result"
    }
   ],
   "source": [
    "dls.vocab"
   ]
  },
  {
   "cell_type": "code",
   "execution_count": 34,
   "metadata": {},
   "outputs": [],
   "source": [
    "learn = cnn_learner(dls, resnet34, metrics = accuracy)"
   ]
  },
  {
   "cell_type": "code",
   "execution_count": 35,
   "metadata": {},
   "outputs": [
    {
     "data": {
      "text/plain": [
       "<fastai.learner.Learner at 0x7fb2d022d1d0>"
      ]
     },
     "execution_count": 35,
     "metadata": {},
     "output_type": "execute_result"
    }
   ],
   "source": [
    "learn.load(\"resnet34_stage2\")"
   ]
  },
  {
   "cell_type": "markdown",
   "metadata": {},
   "source": [
    "# Create Submission File"
   ]
  },
  {
   "cell_type": "code",
   "execution_count": 36,
   "metadata": {},
   "outputs": [],
   "source": [
    "test_items1 = get_image_files(Path(\"data/test_stg1\"))\n",
    "test_items2 = get_image_files(Path(\"data/test_stg2\"))"
   ]
  },
  {
   "cell_type": "code",
   "execution_count": 37,
   "metadata": {},
   "outputs": [],
   "source": [
    "test_dl1 = dls.test_dl(test_items1)\n",
    "test_dl2 = dls.test_dl(test_items2)"
   ]
  },
  {
   "cell_type": "code",
   "execution_count": 38,
   "metadata": {},
   "outputs": [
    {
     "data": {
      "text/html": [],
      "text/plain": [
       "<IPython.core.display.HTML object>"
      ]
     },
     "metadata": {},
     "output_type": "display_data"
    },
    {
     "data": {
      "text/html": [],
      "text/plain": [
       "<IPython.core.display.HTML object>"
      ]
     },
     "metadata": {},
     "output_type": "display_data"
    }
   ],
   "source": [
    "preds1,_ = learn.get_preds(dl=test_dl1)\n",
    "preds2,_ = learn.get_preds(dl=test_dl2)"
   ]
  },
  {
   "cell_type": "code",
   "execution_count": 40,
   "metadata": {},
   "outputs": [],
   "source": [
    "# ['SHARK','OTHER','DOL','LAG', 'NoF']"
   ]
  },
  {
   "cell_type": "code",
   "execution_count": 41,
   "metadata": {},
   "outputs": [
    {
     "data": {
      "text/plain": [
       "Index(['ALB', 'BET', 'DOL', 'LAG', 'NoF', 'OTHER', 'SHARK', 'YFT'], dtype='object')"
      ]
     },
     "execution_count": 41,
     "metadata": {},
     "output_type": "execute_result"
    }
   ],
   "source": [
    "columns = sample_sub.columns\n",
    "# columns = columns.drop([\"image\", 'ALB', 'BET', 'YFT']); columns\n",
    "columns = columns.drop([\"image\"]); columns"
   ]
  },
  {
   "cell_type": "code",
   "execution_count": 43,
   "metadata": {},
   "outputs": [],
   "source": [
    "df1 = pd.DataFrame(data = preds1, columns = columns)\n",
    "df2 = pd.DataFrame(data = preds2, columns = columns)"
   ]
  },
  {
   "cell_type": "code",
   "execution_count": 44,
   "metadata": {},
   "outputs": [],
   "source": [
    "def get_file_name(path):\n",
    "    match = re.match('^.*\\/([^\\/]+\\.jpg)', str(path))\n",
    "    return match.group(1)"
   ]
  },
  {
   "cell_type": "code",
   "execution_count": 23,
   "metadata": {},
   "outputs": [],
   "source": [
    "test_items1_names = [get_file_name(path) for path in test_items1]\n",
    "test_items2_names = [\"test_stg2/\" + get_file_name(path) for path in test_items2]"
   ]
  },
  {
   "cell_type": "code",
   "execution_count": 45,
   "metadata": {},
   "outputs": [],
   "source": [
    "df1.insert(loc = 0, column = \"image\", value = test_items1_names)\n",
    "df2.insert(loc = 0, column = \"image\", value = test_items2_names)"
   ]
  },
  {
   "cell_type": "code",
   "execution_count": 49,
   "metadata": {},
   "outputs": [
    {
     "data": {
      "text/html": [
       "<div>\n",
       "<style scoped>\n",
       "    .dataframe tbody tr th:only-of-type {\n",
       "        vertical-align: middle;\n",
       "    }\n",
       "\n",
       "    .dataframe tbody tr th {\n",
       "        vertical-align: top;\n",
       "    }\n",
       "\n",
       "    .dataframe thead th {\n",
       "        text-align: right;\n",
       "    }\n",
       "</style>\n",
       "<table border=\"1\" class=\"dataframe\">\n",
       "  <thead>\n",
       "    <tr style=\"text-align: right;\">\n",
       "      <th></th>\n",
       "      <th>image</th>\n",
       "      <th>ALB</th>\n",
       "      <th>BET</th>\n",
       "      <th>DOL</th>\n",
       "      <th>LAG</th>\n",
       "      <th>NoF</th>\n",
       "      <th>OTHER</th>\n",
       "      <th>SHARK</th>\n",
       "      <th>YFT</th>\n",
       "    </tr>\n",
       "  </thead>\n",
       "  <tbody>\n",
       "    <tr>\n",
       "      <th>0</th>\n",
       "      <td>img_00950.jpg</td>\n",
       "      <td>0.091092</td>\n",
       "      <td>0.000154</td>\n",
       "      <td>0.000235</td>\n",
       "      <td>0.000069</td>\n",
       "      <td>0.906459</td>\n",
       "      <td>0.001500</td>\n",
       "      <td>0.000114</td>\n",
       "      <td>0.000377</td>\n",
       "    </tr>\n",
       "    <tr>\n",
       "      <th>1</th>\n",
       "      <td>img_01384.jpg</td>\n",
       "      <td>0.350268</td>\n",
       "      <td>0.005865</td>\n",
       "      <td>0.010577</td>\n",
       "      <td>0.007593</td>\n",
       "      <td>0.555454</td>\n",
       "      <td>0.038866</td>\n",
       "      <td>0.000931</td>\n",
       "      <td>0.030448</td>\n",
       "    </tr>\n",
       "    <tr>\n",
       "      <th>2</th>\n",
       "      <td>img_03252.jpg</td>\n",
       "      <td>0.999649</td>\n",
       "      <td>0.000058</td>\n",
       "      <td>0.000004</td>\n",
       "      <td>0.000014</td>\n",
       "      <td>0.000052</td>\n",
       "      <td>0.000026</td>\n",
       "      <td>0.000019</td>\n",
       "      <td>0.000179</td>\n",
       "    </tr>\n",
       "    <tr>\n",
       "      <th>3</th>\n",
       "      <td>img_00138.jpg</td>\n",
       "      <td>0.992160</td>\n",
       "      <td>0.000052</td>\n",
       "      <td>0.000210</td>\n",
       "      <td>0.000158</td>\n",
       "      <td>0.005971</td>\n",
       "      <td>0.000221</td>\n",
       "      <td>0.000442</td>\n",
       "      <td>0.000787</td>\n",
       "    </tr>\n",
       "    <tr>\n",
       "      <th>4</th>\n",
       "      <td>img_04073.jpg</td>\n",
       "      <td>0.015887</td>\n",
       "      <td>0.024084</td>\n",
       "      <td>0.000937</td>\n",
       "      <td>0.006072</td>\n",
       "      <td>0.002245</td>\n",
       "      <td>0.007861</td>\n",
       "      <td>0.000374</td>\n",
       "      <td>0.942539</td>\n",
       "    </tr>\n",
       "    <tr>\n",
       "      <th>...</th>\n",
       "      <td>...</td>\n",
       "      <td>...</td>\n",
       "      <td>...</td>\n",
       "      <td>...</td>\n",
       "      <td>...</td>\n",
       "      <td>...</td>\n",
       "      <td>...</td>\n",
       "      <td>...</td>\n",
       "      <td>...</td>\n",
       "    </tr>\n",
       "    <tr>\n",
       "      <th>12148</th>\n",
       "      <td>test_stg2/image_06524.jpg</td>\n",
       "      <td>0.995513</td>\n",
       "      <td>0.000817</td>\n",
       "      <td>0.000013</td>\n",
       "      <td>0.000012</td>\n",
       "      <td>0.000286</td>\n",
       "      <td>0.000121</td>\n",
       "      <td>0.000009</td>\n",
       "      <td>0.003229</td>\n",
       "    </tr>\n",
       "    <tr>\n",
       "      <th>12149</th>\n",
       "      <td>test_stg2/image_02773.jpg</td>\n",
       "      <td>0.329281</td>\n",
       "      <td>0.166713</td>\n",
       "      <td>0.059739</td>\n",
       "      <td>0.023515</td>\n",
       "      <td>0.000922</td>\n",
       "      <td>0.002535</td>\n",
       "      <td>0.004770</td>\n",
       "      <td>0.412524</td>\n",
       "    </tr>\n",
       "    <tr>\n",
       "      <th>12150</th>\n",
       "      <td>test_stg2/image_05407.jpg</td>\n",
       "      <td>0.943119</td>\n",
       "      <td>0.005028</td>\n",
       "      <td>0.000246</td>\n",
       "      <td>0.000086</td>\n",
       "      <td>0.000043</td>\n",
       "      <td>0.000111</td>\n",
       "      <td>0.000051</td>\n",
       "      <td>0.051316</td>\n",
       "    </tr>\n",
       "    <tr>\n",
       "      <th>12151</th>\n",
       "      <td>test_stg2/image_00875.jpg</td>\n",
       "      <td>0.968230</td>\n",
       "      <td>0.000887</td>\n",
       "      <td>0.001467</td>\n",
       "      <td>0.001632</td>\n",
       "      <td>0.012477</td>\n",
       "      <td>0.000582</td>\n",
       "      <td>0.000894</td>\n",
       "      <td>0.013831</td>\n",
       "    </tr>\n",
       "    <tr>\n",
       "      <th>12152</th>\n",
       "      <td>test_stg2/image_08654.jpg</td>\n",
       "      <td>0.182330</td>\n",
       "      <td>0.105585</td>\n",
       "      <td>0.038586</td>\n",
       "      <td>0.044495</td>\n",
       "      <td>0.002007</td>\n",
       "      <td>0.036304</td>\n",
       "      <td>0.013921</td>\n",
       "      <td>0.576772</td>\n",
       "    </tr>\n",
       "  </tbody>\n",
       "</table>\n",
       "<p>13153 rows × 9 columns</p>\n",
       "</div>"
      ],
      "text/plain": [
       "                           image       ALB       BET       DOL       LAG  \\\n",
       "0                  img_00950.jpg  0.091092  0.000154  0.000235  0.000069   \n",
       "1                  img_01384.jpg  0.350268  0.005865  0.010577  0.007593   \n",
       "2                  img_03252.jpg  0.999649  0.000058  0.000004  0.000014   \n",
       "3                  img_00138.jpg  0.992160  0.000052  0.000210  0.000158   \n",
       "4                  img_04073.jpg  0.015887  0.024084  0.000937  0.006072   \n",
       "...                          ...       ...       ...       ...       ...   \n",
       "12148  test_stg2/image_06524.jpg  0.995513  0.000817  0.000013  0.000012   \n",
       "12149  test_stg2/image_02773.jpg  0.329281  0.166713  0.059739  0.023515   \n",
       "12150  test_stg2/image_05407.jpg  0.943119  0.005028  0.000246  0.000086   \n",
       "12151  test_stg2/image_00875.jpg  0.968230  0.000887  0.001467  0.001632   \n",
       "12152  test_stg2/image_08654.jpg  0.182330  0.105585  0.038586  0.044495   \n",
       "\n",
       "            NoF     OTHER     SHARK       YFT  \n",
       "0      0.906459  0.001500  0.000114  0.000377  \n",
       "1      0.555454  0.038866  0.000931  0.030448  \n",
       "2      0.000052  0.000026  0.000019  0.000179  \n",
       "3      0.005971  0.000221  0.000442  0.000787  \n",
       "4      0.002245  0.007861  0.000374  0.942539  \n",
       "...         ...       ...       ...       ...  \n",
       "12148  0.000286  0.000121  0.000009  0.003229  \n",
       "12149  0.000922  0.002535  0.004770  0.412524  \n",
       "12150  0.000043  0.000111  0.000051  0.051316  \n",
       "12151  0.012477  0.000582  0.000894  0.013831  \n",
       "12152  0.002007  0.036304  0.013921  0.576772  \n",
       "\n",
       "[13153 rows x 9 columns]"
      ]
     },
     "execution_count": 49,
     "metadata": {},
     "output_type": "execute_result"
    }
   ],
   "source": [
    "submission_df = pd.concat([df1, df2]); submission_df"
   ]
  },
  {
   "cell_type": "code",
   "execution_count": 55,
   "metadata": {},
   "outputs": [],
   "source": [
    "file_path = \"data/initial_submission.csv\""
   ]
  },
  {
   "cell_type": "code",
   "execution_count": 56,
   "metadata": {},
   "outputs": [],
   "source": [
    "submission_df.to_csv(file_path, index = False)"
   ]
  },
  {
   "cell_type": "markdown",
   "metadata": {},
   "source": [
    "# Submitting to Kaggle"
   ]
  },
  {
   "cell_type": "code",
   "execution_count": 54,
   "metadata": {},
   "outputs": [],
   "source": [
    "competition =  \"the-nature-conservancy-fisheries-monitoring\""
   ]
  },
  {
   "cell_type": "code",
   "execution_count": 57,
   "metadata": {},
   "outputs": [
    {
     "name": "stdout",
     "output_type": "stream",
     "text": [
      "100%|███████████████████████████████████████| 1.53M/1.53M [00:02<00:00, 647kB/s]\n",
      "Successfully submitted to The Nature Conservancy Fisheries Monitoring"
     ]
    }
   ],
   "source": [
    "!kaggle competitions submit the-nature-conservancy-fisheries-monitoring -f $file_path -m\"Initial submission\" "
   ]
  },
  {
   "cell_type": "code",
   "execution_count": null,
   "metadata": {},
   "outputs": [],
   "source": []
  }
 ],
 "metadata": {
  "environment": {
   "name": "pytorch-gpu.1-4.m55",
   "type": "gcloud",
   "uri": "gcr.io/deeplearning-platform-release/pytorch-gpu.1-4:m55"
  },
  "kernelspec": {
   "display_name": "Python 3",
   "language": "python",
   "name": "python3"
  },
  "language_info": {
   "codemirror_mode": {
    "name": "ipython",
    "version": 3
   },
   "file_extension": ".py",
   "mimetype": "text/x-python",
   "name": "python",
   "nbconvert_exporter": "python",
   "pygments_lexer": "ipython3",
   "version": "3.7.8"
  }
 },
 "nbformat": 4,
 "nbformat_minor": 4
}
