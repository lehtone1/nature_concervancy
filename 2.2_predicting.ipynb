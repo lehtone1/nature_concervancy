{
 "cells": [
  {
   "cell_type": "markdown",
   "metadata": {},
   "source": [
    "https://www.kaggle.com/c/the-nature-conservancy-fisheries-monitoring/overview"
   ]
  },
  {
   "cell_type": "code",
   "execution_count": 1,
   "metadata": {},
   "outputs": [
    {
     "name": "stderr",
     "output_type": "stream",
     "text": [
      "/opt/conda/lib/python3.7/site-packages/fastbook/__init__.py:22: UserWarning: Missing `graphviz` - please run `conda install fastbook`\n",
      "  except ModuleNotFoundError: warn(\"Missing `graphviz` - please run `conda install fastbook`\")\n"
     ]
    }
   ],
   "source": [
    "!pip install -Uqq fastbook\n",
    "import fastbook\n",
    "fastbook.setup_book()"
   ]
  },
  {
   "cell_type": "code",
   "execution_count": 2,
   "metadata": {},
   "outputs": [],
   "source": [
    "from fastbook import * "
   ]
  },
  {
   "cell_type": "code",
   "execution_count": 3,
   "metadata": {},
   "outputs": [],
   "source": [
    "import pandas as pd\n",
    "import re"
   ]
  },
  {
   "cell_type": "code",
   "execution_count": 119,
   "metadata": {},
   "outputs": [],
   "source": [
    "from tqdm import tqdm"
   ]
  },
  {
   "cell_type": "code",
   "execution_count": 144,
   "metadata": {},
   "outputs": [],
   "source": [
    "import tqdm.notebook as tq"
   ]
  },
  {
   "cell_type": "code",
   "execution_count": 146,
   "metadata": {},
   "outputs": [],
   "source": [
    "from tqdm.notebook import tqdm"
   ]
  },
  {
   "cell_type": "code",
   "execution_count": 4,
   "metadata": {},
   "outputs": [
    {
     "data": {
      "text/html": [
       "<div>\n",
       "<style scoped>\n",
       "    .dataframe tbody tr th:only-of-type {\n",
       "        vertical-align: middle;\n",
       "    }\n",
       "\n",
       "    .dataframe tbody tr th {\n",
       "        vertical-align: top;\n",
       "    }\n",
       "\n",
       "    .dataframe thead th {\n",
       "        text-align: right;\n",
       "    }\n",
       "</style>\n",
       "<table border=\"1\" class=\"dataframe\">\n",
       "  <thead>\n",
       "    <tr style=\"text-align: right;\">\n",
       "      <th></th>\n",
       "      <th>image</th>\n",
       "      <th>ALB</th>\n",
       "      <th>BET</th>\n",
       "      <th>DOL</th>\n",
       "      <th>LAG</th>\n",
       "      <th>NoF</th>\n",
       "      <th>OTHER</th>\n",
       "      <th>SHARK</th>\n",
       "      <th>YFT</th>\n",
       "    </tr>\n",
       "  </thead>\n",
       "  <tbody>\n",
       "    <tr>\n",
       "      <th>0</th>\n",
       "      <td>img_00005.jpg</td>\n",
       "      <td>0.455003</td>\n",
       "      <td>0.052938</td>\n",
       "      <td>0.030969</td>\n",
       "      <td>0.017734</td>\n",
       "      <td>0.123081</td>\n",
       "      <td>0.079142</td>\n",
       "      <td>0.046585</td>\n",
       "      <td>0.194283</td>\n",
       "    </tr>\n",
       "    <tr>\n",
       "      <th>1</th>\n",
       "      <td>img_00007.jpg</td>\n",
       "      <td>0.455003</td>\n",
       "      <td>0.052938</td>\n",
       "      <td>0.030969</td>\n",
       "      <td>0.017734</td>\n",
       "      <td>0.123081</td>\n",
       "      <td>0.079142</td>\n",
       "      <td>0.046585</td>\n",
       "      <td>0.194283</td>\n",
       "    </tr>\n",
       "    <tr>\n",
       "      <th>2</th>\n",
       "      <td>img_00009.jpg</td>\n",
       "      <td>0.455003</td>\n",
       "      <td>0.052938</td>\n",
       "      <td>0.030969</td>\n",
       "      <td>0.017734</td>\n",
       "      <td>0.123081</td>\n",
       "      <td>0.079142</td>\n",
       "      <td>0.046585</td>\n",
       "      <td>0.194283</td>\n",
       "    </tr>\n",
       "    <tr>\n",
       "      <th>3</th>\n",
       "      <td>img_00018.jpg</td>\n",
       "      <td>0.455003</td>\n",
       "      <td>0.052938</td>\n",
       "      <td>0.030969</td>\n",
       "      <td>0.017734</td>\n",
       "      <td>0.123081</td>\n",
       "      <td>0.079142</td>\n",
       "      <td>0.046585</td>\n",
       "      <td>0.194283</td>\n",
       "    </tr>\n",
       "    <tr>\n",
       "      <th>4</th>\n",
       "      <td>img_00027.jpg</td>\n",
       "      <td>0.455003</td>\n",
       "      <td>0.052938</td>\n",
       "      <td>0.030969</td>\n",
       "      <td>0.017734</td>\n",
       "      <td>0.123081</td>\n",
       "      <td>0.079142</td>\n",
       "      <td>0.046585</td>\n",
       "      <td>0.194283</td>\n",
       "    </tr>\n",
       "    <tr>\n",
       "      <th>...</th>\n",
       "      <td>...</td>\n",
       "      <td>...</td>\n",
       "      <td>...</td>\n",
       "      <td>...</td>\n",
       "      <td>...</td>\n",
       "      <td>...</td>\n",
       "      <td>...</td>\n",
       "      <td>...</td>\n",
       "      <td>...</td>\n",
       "    </tr>\n",
       "    <tr>\n",
       "      <th>13148</th>\n",
       "      <td>test_stg2/image_12149.jpg</td>\n",
       "      <td>0.455003</td>\n",
       "      <td>0.052938</td>\n",
       "      <td>0.030969</td>\n",
       "      <td>0.017734</td>\n",
       "      <td>0.123081</td>\n",
       "      <td>0.079142</td>\n",
       "      <td>0.046585</td>\n",
       "      <td>0.194283</td>\n",
       "    </tr>\n",
       "    <tr>\n",
       "      <th>13149</th>\n",
       "      <td>test_stg2/image_12150.jpg</td>\n",
       "      <td>0.455003</td>\n",
       "      <td>0.052938</td>\n",
       "      <td>0.030969</td>\n",
       "      <td>0.017734</td>\n",
       "      <td>0.123081</td>\n",
       "      <td>0.079142</td>\n",
       "      <td>0.046585</td>\n",
       "      <td>0.194283</td>\n",
       "    </tr>\n",
       "    <tr>\n",
       "      <th>13150</th>\n",
       "      <td>test_stg2/image_12151.jpg</td>\n",
       "      <td>0.455003</td>\n",
       "      <td>0.052938</td>\n",
       "      <td>0.030969</td>\n",
       "      <td>0.017734</td>\n",
       "      <td>0.123081</td>\n",
       "      <td>0.079142</td>\n",
       "      <td>0.046585</td>\n",
       "      <td>0.194283</td>\n",
       "    </tr>\n",
       "    <tr>\n",
       "      <th>13151</th>\n",
       "      <td>test_stg2/image_12152.jpg</td>\n",
       "      <td>0.455003</td>\n",
       "      <td>0.052938</td>\n",
       "      <td>0.030969</td>\n",
       "      <td>0.017734</td>\n",
       "      <td>0.123081</td>\n",
       "      <td>0.079142</td>\n",
       "      <td>0.046585</td>\n",
       "      <td>0.194283</td>\n",
       "    </tr>\n",
       "    <tr>\n",
       "      <th>13152</th>\n",
       "      <td>test_stg2/image_12153.jpg</td>\n",
       "      <td>0.455003</td>\n",
       "      <td>0.052938</td>\n",
       "      <td>0.030969</td>\n",
       "      <td>0.017734</td>\n",
       "      <td>0.123081</td>\n",
       "      <td>0.079142</td>\n",
       "      <td>0.046585</td>\n",
       "      <td>0.194283</td>\n",
       "    </tr>\n",
       "  </tbody>\n",
       "</table>\n",
       "<p>13153 rows × 9 columns</p>\n",
       "</div>"
      ],
      "text/plain": [
       "                           image       ALB       BET       DOL       LAG  \\\n",
       "0                  img_00005.jpg  0.455003  0.052938  0.030969  0.017734   \n",
       "1                  img_00007.jpg  0.455003  0.052938  0.030969  0.017734   \n",
       "2                  img_00009.jpg  0.455003  0.052938  0.030969  0.017734   \n",
       "3                  img_00018.jpg  0.455003  0.052938  0.030969  0.017734   \n",
       "4                  img_00027.jpg  0.455003  0.052938  0.030969  0.017734   \n",
       "...                          ...       ...       ...       ...       ...   \n",
       "13148  test_stg2/image_12149.jpg  0.455003  0.052938  0.030969  0.017734   \n",
       "13149  test_stg2/image_12150.jpg  0.455003  0.052938  0.030969  0.017734   \n",
       "13150  test_stg2/image_12151.jpg  0.455003  0.052938  0.030969  0.017734   \n",
       "13151  test_stg2/image_12152.jpg  0.455003  0.052938  0.030969  0.017734   \n",
       "13152  test_stg2/image_12153.jpg  0.455003  0.052938  0.030969  0.017734   \n",
       "\n",
       "            NoF     OTHER     SHARK       YFT  \n",
       "0      0.123081  0.079142  0.046585  0.194283  \n",
       "1      0.123081  0.079142  0.046585  0.194283  \n",
       "2      0.123081  0.079142  0.046585  0.194283  \n",
       "3      0.123081  0.079142  0.046585  0.194283  \n",
       "4      0.123081  0.079142  0.046585  0.194283  \n",
       "...         ...       ...       ...       ...  \n",
       "13148  0.123081  0.079142  0.046585  0.194283  \n",
       "13149  0.123081  0.079142  0.046585  0.194283  \n",
       "13150  0.123081  0.079142  0.046585  0.194283  \n",
       "13151  0.123081  0.079142  0.046585  0.194283  \n",
       "13152  0.123081  0.079142  0.046585  0.194283  \n",
       "\n",
       "[13153 rows x 9 columns]"
      ]
     },
     "execution_count": 4,
     "metadata": {},
     "output_type": "execute_result"
    }
   ],
   "source": [
    "sample_sub = pd.read_csv(\"data/sample_submission_stg2.csv\"); sample_sub"
   ]
  },
  {
   "cell_type": "code",
   "execution_count": 5,
   "metadata": {},
   "outputs": [
    {
     "data": {
      "text/plain": [
       "Index(['image', 'ALB', 'BET', 'DOL', 'LAG', 'NoF', 'OTHER', 'SHARK', 'YFT'], dtype='object')"
      ]
     },
     "execution_count": 5,
     "metadata": {},
     "output_type": "execute_result"
    }
   ],
   "source": [
    "sample_sub.columns"
   ]
  },
  {
   "cell_type": "markdown",
   "metadata": {},
   "source": [
    "# Load Data and Model"
   ]
  },
  {
   "cell_type": "code",
   "execution_count": 163,
   "metadata": {},
   "outputs": [],
   "source": [
    "def get_dls(bs, item_size, aug_size):\n",
    "    return ImageDataLoaders.from_folder(\n",
    "        path = \"data/train\",\n",
    "        valid_pct = 0.2,\n",
    "        seed = 1991,\n",
    "        item_tfms = Resize(item_size),\n",
    "        batch_tfms = aug_transforms(size = aug_size),\n",
    "        bs = bs\n",
    "    )"
   ]
  },
  {
   "cell_type": "code",
   "execution_count": 164,
   "metadata": {},
   "outputs": [],
   "source": [
    "dls = get_dls(64, 448, 224)"
   ]
  },
  {
   "cell_type": "code",
   "execution_count": 165,
   "metadata": {},
   "outputs": [
    {
     "data": {
      "text/plain": [
       "(#8) ['ALB','BET','DOL','LAG','NoF','OTHER','SHARK','YFT']"
      ]
     },
     "execution_count": 165,
     "metadata": {},
     "output_type": "execute_result"
    }
   ],
   "source": [
    "dls.vocab"
   ]
  },
  {
   "cell_type": "code",
   "execution_count": 166,
   "metadata": {},
   "outputs": [],
   "source": [
    "learn = cnn_learner(dls, resnet34, metrics = accuracy)"
   ]
  },
  {
   "cell_type": "code",
   "execution_count": 167,
   "metadata": {},
   "outputs": [],
   "source": [
    "model = \"resnet34_stage2_aug12_ls\""
   ]
  },
  {
   "cell_type": "code",
   "execution_count": 168,
   "metadata": {},
   "outputs": [
    {
     "data": {
      "text/plain": [
       "<fastai.learner.Learner at 0x7ff18de928d0>"
      ]
     },
     "execution_count": 168,
     "metadata": {},
     "output_type": "execute_result"
    }
   ],
   "source": [
    "learn.load(model)"
   ]
  },
  {
   "cell_type": "markdown",
   "metadata": {},
   "source": [
    "# Create Submission File"
   ]
  },
  {
   "cell_type": "code",
   "execution_count": 170,
   "metadata": {},
   "outputs": [],
   "source": [
    "test_items1 = get_image_files(Path(\"data/test_stg1\"))\n",
    "test_items2 = get_image_files(Path(\"data/test_stg2\"))"
   ]
  },
  {
   "cell_type": "code",
   "execution_count": 171,
   "metadata": {},
   "outputs": [],
   "source": [
    "test_dl1 = dls.test_dl(test_items1)\n",
    "test_dl2 = dls.test_dl(test_items2)"
   ]
  },
  {
   "cell_type": "code",
   "execution_count": 172,
   "metadata": {},
   "outputs": [
    {
     "data": {
      "text/html": [],
      "text/plain": [
       "<IPython.core.display.HTML object>"
      ]
     },
     "metadata": {},
     "output_type": "display_data"
    },
    {
     "data": {
      "text/html": [],
      "text/plain": [
       "<IPython.core.display.HTML object>"
      ]
     },
     "metadata": {},
     "output_type": "display_data"
    }
   ],
   "source": [
    "preds1,_ = learn.get_preds(dl=test_dl1)\n",
    "preds2,_ = learn.get_preds(dl=test_dl2)"
   ]
  },
  {
   "cell_type": "code",
   "execution_count": 190,
   "metadata": {},
   "outputs": [],
   "source": [
    "def modify_preds(preds, min_value, max_value):\n",
    "    filt1 = preds > max_value\n",
    "    filt2 = preds < min_value\n",
    "    preds[filt1] = max_value\n",
    "    preds[filt2] = min_value\n",
    "    return preds"
   ]
  },
  {
   "cell_type": "code",
   "execution_count": 192,
   "metadata": {},
   "outputs": [],
   "source": [
    "preds1 = modify_preds(preds1, 0.01, 0.95)\n",
    "preds2 = modify_preds(preds2, 0.01, 0.95)"
   ]
  },
  {
   "cell_type": "code",
   "execution_count": 193,
   "metadata": {},
   "outputs": [
    {
     "data": {
      "text/plain": [
       "Index(['ALB', 'BET', 'DOL', 'LAG', 'NoF', 'OTHER', 'SHARK', 'YFT'], dtype='object')"
      ]
     },
     "execution_count": 193,
     "metadata": {},
     "output_type": "execute_result"
    }
   ],
   "source": [
    "columns = sample_sub.columns\n",
    "# columns = columns.drop([\"image\", 'ALB', 'BET', 'YFT']); columns\n",
    "columns = columns.drop([\"image\"]); columns"
   ]
  },
  {
   "cell_type": "code",
   "execution_count": 194,
   "metadata": {},
   "outputs": [],
   "source": [
    "df1 = pd.DataFrame(data = preds1, columns = columns)\n",
    "df2 = pd.DataFrame(data = preds2, columns = columns)"
   ]
  },
  {
   "cell_type": "code",
   "execution_count": 195,
   "metadata": {},
   "outputs": [],
   "source": [
    "def get_file_name(path):\n",
    "    match = re.match('^.*\\/([^\\/]+\\.jpg)', str(path))\n",
    "    return match.group(1)"
   ]
  },
  {
   "cell_type": "code",
   "execution_count": 196,
   "metadata": {},
   "outputs": [],
   "source": [
    "test_items1_names = [get_file_name(path) for path in test_items1]\n",
    "test_items2_names = [\"test_stg2/\" + get_file_name(path) for path in test_items2]"
   ]
  },
  {
   "cell_type": "code",
   "execution_count": 197,
   "metadata": {},
   "outputs": [],
   "source": [
    "df1.insert(loc = 0, column = \"image\", value = test_items1_names)\n",
    "df2.insert(loc = 0, column = \"image\", value = test_items2_names)"
   ]
  },
  {
   "cell_type": "code",
   "execution_count": 198,
   "metadata": {},
   "outputs": [
    {
     "data": {
      "text/html": [
       "<div>\n",
       "<style scoped>\n",
       "    .dataframe tbody tr th:only-of-type {\n",
       "        vertical-align: middle;\n",
       "    }\n",
       "\n",
       "    .dataframe tbody tr th {\n",
       "        vertical-align: top;\n",
       "    }\n",
       "\n",
       "    .dataframe thead th {\n",
       "        text-align: right;\n",
       "    }\n",
       "</style>\n",
       "<table border=\"1\" class=\"dataframe\">\n",
       "  <thead>\n",
       "    <tr style=\"text-align: right;\">\n",
       "      <th></th>\n",
       "      <th>image</th>\n",
       "      <th>ALB</th>\n",
       "      <th>BET</th>\n",
       "      <th>DOL</th>\n",
       "      <th>LAG</th>\n",
       "      <th>NoF</th>\n",
       "      <th>OTHER</th>\n",
       "      <th>SHARK</th>\n",
       "      <th>YFT</th>\n",
       "    </tr>\n",
       "  </thead>\n",
       "  <tbody>\n",
       "    <tr>\n",
       "      <th>0</th>\n",
       "      <td>img_00950.jpg</td>\n",
       "      <td>0.010000</td>\n",
       "      <td>0.010000</td>\n",
       "      <td>0.010000</td>\n",
       "      <td>0.010000</td>\n",
       "      <td>0.950000</td>\n",
       "      <td>0.010000</td>\n",
       "      <td>0.010000</td>\n",
       "      <td>0.010000</td>\n",
       "    </tr>\n",
       "    <tr>\n",
       "      <th>1</th>\n",
       "      <td>img_01384.jpg</td>\n",
       "      <td>0.308409</td>\n",
       "      <td>0.067140</td>\n",
       "      <td>0.038380</td>\n",
       "      <td>0.024461</td>\n",
       "      <td>0.042242</td>\n",
       "      <td>0.351166</td>\n",
       "      <td>0.035417</td>\n",
       "      <td>0.132785</td>\n",
       "    </tr>\n",
       "    <tr>\n",
       "      <th>2</th>\n",
       "      <td>img_03252.jpg</td>\n",
       "      <td>0.945627</td>\n",
       "      <td>0.012550</td>\n",
       "      <td>0.010000</td>\n",
       "      <td>0.010000</td>\n",
       "      <td>0.010000</td>\n",
       "      <td>0.010000</td>\n",
       "      <td>0.010398</td>\n",
       "      <td>0.010000</td>\n",
       "    </tr>\n",
       "    <tr>\n",
       "      <th>3</th>\n",
       "      <td>img_00138.jpg</td>\n",
       "      <td>0.650138</td>\n",
       "      <td>0.011643</td>\n",
       "      <td>0.020711</td>\n",
       "      <td>0.019940</td>\n",
       "      <td>0.198678</td>\n",
       "      <td>0.010000</td>\n",
       "      <td>0.023596</td>\n",
       "      <td>0.071578</td>\n",
       "    </tr>\n",
       "    <tr>\n",
       "      <th>4</th>\n",
       "      <td>img_04073.jpg</td>\n",
       "      <td>0.010000</td>\n",
       "      <td>0.044687</td>\n",
       "      <td>0.010000</td>\n",
       "      <td>0.010000</td>\n",
       "      <td>0.010000</td>\n",
       "      <td>0.010000</td>\n",
       "      <td>0.010000</td>\n",
       "      <td>0.940568</td>\n",
       "    </tr>\n",
       "    <tr>\n",
       "      <th>...</th>\n",
       "      <td>...</td>\n",
       "      <td>...</td>\n",
       "      <td>...</td>\n",
       "      <td>...</td>\n",
       "      <td>...</td>\n",
       "      <td>...</td>\n",
       "      <td>...</td>\n",
       "      <td>...</td>\n",
       "      <td>...</td>\n",
       "    </tr>\n",
       "    <tr>\n",
       "      <th>12148</th>\n",
       "      <td>test_stg2/image_06524.jpg</td>\n",
       "      <td>0.460297</td>\n",
       "      <td>0.101537</td>\n",
       "      <td>0.023048</td>\n",
       "      <td>0.011845</td>\n",
       "      <td>0.039846</td>\n",
       "      <td>0.013379</td>\n",
       "      <td>0.015135</td>\n",
       "      <td>0.334911</td>\n",
       "    </tr>\n",
       "    <tr>\n",
       "      <th>12149</th>\n",
       "      <td>test_stg2/image_02773.jpg</td>\n",
       "      <td>0.021524</td>\n",
       "      <td>0.038833</td>\n",
       "      <td>0.057649</td>\n",
       "      <td>0.106832</td>\n",
       "      <td>0.335798</td>\n",
       "      <td>0.055370</td>\n",
       "      <td>0.139789</td>\n",
       "      <td>0.244205</td>\n",
       "    </tr>\n",
       "    <tr>\n",
       "      <th>12150</th>\n",
       "      <td>test_stg2/image_05407.jpg</td>\n",
       "      <td>0.406232</td>\n",
       "      <td>0.182009</td>\n",
       "      <td>0.077482</td>\n",
       "      <td>0.020413</td>\n",
       "      <td>0.139474</td>\n",
       "      <td>0.024743</td>\n",
       "      <td>0.010981</td>\n",
       "      <td>0.138666</td>\n",
       "    </tr>\n",
       "    <tr>\n",
       "      <th>12151</th>\n",
       "      <td>test_stg2/image_00875.jpg</td>\n",
       "      <td>0.748587</td>\n",
       "      <td>0.010000</td>\n",
       "      <td>0.014849</td>\n",
       "      <td>0.010000</td>\n",
       "      <td>0.190661</td>\n",
       "      <td>0.010000</td>\n",
       "      <td>0.010000</td>\n",
       "      <td>0.025082</td>\n",
       "    </tr>\n",
       "    <tr>\n",
       "      <th>12152</th>\n",
       "      <td>test_stg2/image_08654.jpg</td>\n",
       "      <td>0.143009</td>\n",
       "      <td>0.115439</td>\n",
       "      <td>0.010000</td>\n",
       "      <td>0.016174</td>\n",
       "      <td>0.010000</td>\n",
       "      <td>0.025424</td>\n",
       "      <td>0.016491</td>\n",
       "      <td>0.671958</td>\n",
       "    </tr>\n",
       "  </tbody>\n",
       "</table>\n",
       "<p>13153 rows × 9 columns</p>\n",
       "</div>"
      ],
      "text/plain": [
       "                           image       ALB       BET       DOL       LAG  \\\n",
       "0                  img_00950.jpg  0.010000  0.010000  0.010000  0.010000   \n",
       "1                  img_01384.jpg  0.308409  0.067140  0.038380  0.024461   \n",
       "2                  img_03252.jpg  0.945627  0.012550  0.010000  0.010000   \n",
       "3                  img_00138.jpg  0.650138  0.011643  0.020711  0.019940   \n",
       "4                  img_04073.jpg  0.010000  0.044687  0.010000  0.010000   \n",
       "...                          ...       ...       ...       ...       ...   \n",
       "12148  test_stg2/image_06524.jpg  0.460297  0.101537  0.023048  0.011845   \n",
       "12149  test_stg2/image_02773.jpg  0.021524  0.038833  0.057649  0.106832   \n",
       "12150  test_stg2/image_05407.jpg  0.406232  0.182009  0.077482  0.020413   \n",
       "12151  test_stg2/image_00875.jpg  0.748587  0.010000  0.014849  0.010000   \n",
       "12152  test_stg2/image_08654.jpg  0.143009  0.115439  0.010000  0.016174   \n",
       "\n",
       "            NoF     OTHER     SHARK       YFT  \n",
       "0      0.950000  0.010000  0.010000  0.010000  \n",
       "1      0.042242  0.351166  0.035417  0.132785  \n",
       "2      0.010000  0.010000  0.010398  0.010000  \n",
       "3      0.198678  0.010000  0.023596  0.071578  \n",
       "4      0.010000  0.010000  0.010000  0.940568  \n",
       "...         ...       ...       ...       ...  \n",
       "12148  0.039846  0.013379  0.015135  0.334911  \n",
       "12149  0.335798  0.055370  0.139789  0.244205  \n",
       "12150  0.139474  0.024743  0.010981  0.138666  \n",
       "12151  0.190661  0.010000  0.010000  0.025082  \n",
       "12152  0.010000  0.025424  0.016491  0.671958  \n",
       "\n",
       "[13153 rows x 9 columns]"
      ]
     },
     "execution_count": 198,
     "metadata": {},
     "output_type": "execute_result"
    }
   ],
   "source": [
    "submission_df = pd.concat([df1, df2]); submission_df"
   ]
  },
  {
   "cell_type": "code",
   "execution_count": 199,
   "metadata": {},
   "outputs": [
    {
     "data": {
      "text/html": [
       "<div>\n",
       "<style scoped>\n",
       "    .dataframe tbody tr th:only-of-type {\n",
       "        vertical-align: middle;\n",
       "    }\n",
       "\n",
       "    .dataframe tbody tr th {\n",
       "        vertical-align: top;\n",
       "    }\n",
       "\n",
       "    .dataframe thead th {\n",
       "        text-align: right;\n",
       "    }\n",
       "</style>\n",
       "<table border=\"1\" class=\"dataframe\">\n",
       "  <thead>\n",
       "    <tr style=\"text-align: right;\">\n",
       "      <th></th>\n",
       "      <th>image</th>\n",
       "      <th>ALB</th>\n",
       "      <th>BET</th>\n",
       "      <th>DOL</th>\n",
       "      <th>LAG</th>\n",
       "      <th>NoF</th>\n",
       "      <th>OTHER</th>\n",
       "      <th>SHARK</th>\n",
       "      <th>YFT</th>\n",
       "    </tr>\n",
       "  </thead>\n",
       "  <tbody>\n",
       "    <tr>\n",
       "      <th>664</th>\n",
       "      <td>img_00005.jpg</td>\n",
       "      <td>0.010000</td>\n",
       "      <td>0.010000</td>\n",
       "      <td>0.010000</td>\n",
       "      <td>0.010000</td>\n",
       "      <td>0.950000</td>\n",
       "      <td>0.010000</td>\n",
       "      <td>0.010000</td>\n",
       "      <td>0.010000</td>\n",
       "    </tr>\n",
       "    <tr>\n",
       "      <th>760</th>\n",
       "      <td>img_00007.jpg</td>\n",
       "      <td>0.098225</td>\n",
       "      <td>0.385364</td>\n",
       "      <td>0.037294</td>\n",
       "      <td>0.057968</td>\n",
       "      <td>0.041102</td>\n",
       "      <td>0.025343</td>\n",
       "      <td>0.010000</td>\n",
       "      <td>0.345457</td>\n",
       "    </tr>\n",
       "    <tr>\n",
       "      <th>415</th>\n",
       "      <td>img_00009.jpg</td>\n",
       "      <td>0.950000</td>\n",
       "      <td>0.010000</td>\n",
       "      <td>0.010000</td>\n",
       "      <td>0.010000</td>\n",
       "      <td>0.010000</td>\n",
       "      <td>0.010000</td>\n",
       "      <td>0.010000</td>\n",
       "      <td>0.010000</td>\n",
       "    </tr>\n",
       "    <tr>\n",
       "      <th>632</th>\n",
       "      <td>img_00018.jpg</td>\n",
       "      <td>0.950000</td>\n",
       "      <td>0.010000</td>\n",
       "      <td>0.010000</td>\n",
       "      <td>0.010000</td>\n",
       "      <td>0.010000</td>\n",
       "      <td>0.010000</td>\n",
       "      <td>0.010000</td>\n",
       "      <td>0.013146</td>\n",
       "    </tr>\n",
       "    <tr>\n",
       "      <th>347</th>\n",
       "      <td>img_00027.jpg</td>\n",
       "      <td>0.520176</td>\n",
       "      <td>0.100177</td>\n",
       "      <td>0.016380</td>\n",
       "      <td>0.025615</td>\n",
       "      <td>0.029543</td>\n",
       "      <td>0.131524</td>\n",
       "      <td>0.010000</td>\n",
       "      <td>0.169494</td>\n",
       "    </tr>\n",
       "    <tr>\n",
       "      <th>...</th>\n",
       "      <td>...</td>\n",
       "      <td>...</td>\n",
       "      <td>...</td>\n",
       "      <td>...</td>\n",
       "      <td>...</td>\n",
       "      <td>...</td>\n",
       "      <td>...</td>\n",
       "      <td>...</td>\n",
       "      <td>...</td>\n",
       "    </tr>\n",
       "    <tr>\n",
       "      <th>8237</th>\n",
       "      <td>test_stg2/image_12149.jpg</td>\n",
       "      <td>0.445995</td>\n",
       "      <td>0.211006</td>\n",
       "      <td>0.021084</td>\n",
       "      <td>0.020461</td>\n",
       "      <td>0.206694</td>\n",
       "      <td>0.025697</td>\n",
       "      <td>0.019446</td>\n",
       "      <td>0.049617</td>\n",
       "    </tr>\n",
       "    <tr>\n",
       "      <th>2037</th>\n",
       "      <td>test_stg2/image_12150.jpg</td>\n",
       "      <td>0.493906</td>\n",
       "      <td>0.058389</td>\n",
       "      <td>0.010000</td>\n",
       "      <td>0.010000</td>\n",
       "      <td>0.391896</td>\n",
       "      <td>0.025731</td>\n",
       "      <td>0.010000</td>\n",
       "      <td>0.010370</td>\n",
       "    </tr>\n",
       "    <tr>\n",
       "      <th>6635</th>\n",
       "      <td>test_stg2/image_12151.jpg</td>\n",
       "      <td>0.293545</td>\n",
       "      <td>0.076424</td>\n",
       "      <td>0.048611</td>\n",
       "      <td>0.036176</td>\n",
       "      <td>0.087113</td>\n",
       "      <td>0.012721</td>\n",
       "      <td>0.309302</td>\n",
       "      <td>0.136109</td>\n",
       "    </tr>\n",
       "    <tr>\n",
       "      <th>6382</th>\n",
       "      <td>test_stg2/image_12152.jpg</td>\n",
       "      <td>0.257974</td>\n",
       "      <td>0.019144</td>\n",
       "      <td>0.023477</td>\n",
       "      <td>0.059719</td>\n",
       "      <td>0.351986</td>\n",
       "      <td>0.182348</td>\n",
       "      <td>0.060635</td>\n",
       "      <td>0.044718</td>\n",
       "    </tr>\n",
       "    <tr>\n",
       "      <th>4720</th>\n",
       "      <td>test_stg2/image_12153.jpg</td>\n",
       "      <td>0.758139</td>\n",
       "      <td>0.040680</td>\n",
       "      <td>0.029300</td>\n",
       "      <td>0.016077</td>\n",
       "      <td>0.036905</td>\n",
       "      <td>0.013968</td>\n",
       "      <td>0.030929</td>\n",
       "      <td>0.074002</td>\n",
       "    </tr>\n",
       "  </tbody>\n",
       "</table>\n",
       "<p>13153 rows × 9 columns</p>\n",
       "</div>"
      ],
      "text/plain": [
       "                          image       ALB       BET       DOL       LAG  \\\n",
       "664               img_00005.jpg  0.010000  0.010000  0.010000  0.010000   \n",
       "760               img_00007.jpg  0.098225  0.385364  0.037294  0.057968   \n",
       "415               img_00009.jpg  0.950000  0.010000  0.010000  0.010000   \n",
       "632               img_00018.jpg  0.950000  0.010000  0.010000  0.010000   \n",
       "347               img_00027.jpg  0.520176  0.100177  0.016380  0.025615   \n",
       "...                         ...       ...       ...       ...       ...   \n",
       "8237  test_stg2/image_12149.jpg  0.445995  0.211006  0.021084  0.020461   \n",
       "2037  test_stg2/image_12150.jpg  0.493906  0.058389  0.010000  0.010000   \n",
       "6635  test_stg2/image_12151.jpg  0.293545  0.076424  0.048611  0.036176   \n",
       "6382  test_stg2/image_12152.jpg  0.257974  0.019144  0.023477  0.059719   \n",
       "4720  test_stg2/image_12153.jpg  0.758139  0.040680  0.029300  0.016077   \n",
       "\n",
       "           NoF     OTHER     SHARK       YFT  \n",
       "664   0.950000  0.010000  0.010000  0.010000  \n",
       "760   0.041102  0.025343  0.010000  0.345457  \n",
       "415   0.010000  0.010000  0.010000  0.010000  \n",
       "632   0.010000  0.010000  0.010000  0.013146  \n",
       "347   0.029543  0.131524  0.010000  0.169494  \n",
       "...        ...       ...       ...       ...  \n",
       "8237  0.206694  0.025697  0.019446  0.049617  \n",
       "2037  0.391896  0.025731  0.010000  0.010370  \n",
       "6635  0.087113  0.012721  0.309302  0.136109  \n",
       "6382  0.351986  0.182348  0.060635  0.044718  \n",
       "4720  0.036905  0.013968  0.030929  0.074002  \n",
       "\n",
       "[13153 rows x 9 columns]"
      ]
     },
     "execution_count": 199,
     "metadata": {},
     "output_type": "execute_result"
    }
   ],
   "source": [
    "submission_df = submission_df.sort_values(by=\"image\") ; submission_df"
   ]
  },
  {
   "cell_type": "code",
   "execution_count": 200,
   "metadata": {},
   "outputs": [],
   "source": [
    "file_path = \"data/\" + model"
   ]
  },
  {
   "cell_type": "code",
   "execution_count": 201,
   "metadata": {},
   "outputs": [],
   "source": [
    "submission_df.to_csv(file_path, index = False)"
   ]
  },
  {
   "cell_type": "markdown",
   "metadata": {},
   "source": [
    "# Submitting to Kaggle"
   ]
  },
  {
   "cell_type": "code",
   "execution_count": 202,
   "metadata": {},
   "outputs": [],
   "source": [
    "competition =  \"the-nature-conservancy-fisheries-monitoring\""
   ]
  },
  {
   "cell_type": "code",
   "execution_count": 203,
   "metadata": {},
   "outputs": [
    {
     "name": "stdout",
     "output_type": "stream",
     "text": [
      "Warning: Looks like you're using an outdated API Version, please consider updating (server 1.5.9 / client 1.5.8)\n",
      "100%|███████████████████████████████████████| 1.34M/1.34M [00:02<00:00, 634kB/s]\n",
      "Successfully submitted to The Nature Conservancy Fisheries Monitoring"
     ]
    }
   ],
   "source": [
    "!kaggle competitions submit the-nature-conservancy-fisheries-monitoring -f $file_path -m $model "
   ]
  },
  {
   "cell_type": "code",
   "execution_count": null,
   "metadata": {},
   "outputs": [],
   "source": []
  }
 ],
 "metadata": {
  "environment": {
   "name": "pytorch-gpu.1-4.m55",
   "type": "gcloud",
   "uri": "gcr.io/deeplearning-platform-release/pytorch-gpu.1-4:m55"
  },
  "kernelspec": {
   "display_name": "Python 3",
   "language": "python",
   "name": "python3"
  },
  "language_info": {
   "codemirror_mode": {
    "name": "ipython",
    "version": 3
   },
   "file_extension": ".py",
   "mimetype": "text/x-python",
   "name": "python",
   "nbconvert_exporter": "python",
   "pygments_lexer": "ipython3",
   "version": "3.7.8"
  }
 },
 "nbformat": 4,
 "nbformat_minor": 4
}
