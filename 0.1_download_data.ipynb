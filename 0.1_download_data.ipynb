{
 "cells": [
  {
   "cell_type": "markdown",
   "metadata": {},
   "source": [
    "https://www.kaggle.com/c/the-nature-conservancy-fisheries-monitoring/overview"
   ]
  },
  {
   "cell_type": "markdown",
   "metadata": {},
   "source": [
    "# Download Datasets"
   ]
  },
  {
   "cell_type": "code",
   "execution_count": 60,
   "metadata": {},
   "outputs": [
    {
     "name": "stdout",
     "output_type": "stream",
     "text": [
      "Downloading the-nature-conservancy-fisheries-monitoring.zip to data\n",
      "100%|█████████████████████████████████████▉| 2.10G/2.11G [00:44<00:00, 62.4MB/s]\n",
      "100%|██████████████████████████████████████| 2.11G/2.11G [00:44<00:00, 51.3MB/s]\n"
     ]
    }
   ],
   "source": [
    "! kaggle competitions download the-nature-conservancy-fisheries-monitoring -p data"
   ]
  },
  {
   "cell_type": "markdown",
   "metadata": {},
   "source": [
    "# Extract Files"
   ]
  },
  {
   "cell_type": "code",
   "execution_count": 61,
   "metadata": {},
   "outputs": [
    {
     "name": "stdout",
     "output_type": "stream",
     "text": [
      "\n",
      "7-Zip [64] 16.02 : Copyright (c) 1999-2016 Igor Pavlov : 2016-05-21\n",
      "p7zip Version 16.02 (locale=en_US.UTF-8,Utf16=on,HugeFiles=on,64 bits,4 CPUs Intel(R) Xeon(R) CPU @ 2.20GHz (406F0),ASM,AES-NI)\n",
      "\n",
      "Scanning the drive for archives:\n",
      "  0M Sca        1 file, 2266926306 bytes (2162 MiB)\n",
      "\n",
      "Extracting archive: data/the-nature-conservancy-fisheries-monitoring.zip\n",
      "--\n",
      "Path = data/the-nature-conservancy-fisheries-monitoring.zip\n",
      "Type = zip\n",
      "Physical Size = 2266926306\n",
      "\n",
      "      2% 2 - test_stg1.z                      4% 2 - test_stg1.z                      6% 2 - test_stg1.z                      8% 2 - test_stg1.z                     11% 3 - test_stg2.7                     13% 3 - test_stg2.7                     16% 3 - test_stg2.7                     18% 3 - test_stg2.7                     21% 3 - test_stg2.7                     23% 3 - test_stg2.7                     24% 3 - test_stg2.7                     25% 3 - test_stg2.7                     27% 3 - test_stg2.7                     29% 3 - test_stg2.7                     32% 3 - test_stg2.7                     34% 3 - test_stg2.7                     37% 3 - test_stg2.7                     39% 3 - test_stg2.7                     42% 3 - test_stg2.7                     44% 3 - test_stg2.7                     47% 3 - test_stg2.7                     49% 3 - test_stg2.7                     52% 3 - test_stg2.7                     55% 3 - test_stg2.7                     57% 3 - test_stg2.7                     60% 3 - test_stg2.7                     62% 4 - train.z                 64% 4 - train.z                 66% 4 - train.z                 68% 4 - train.z                 70% 4 - train.z                 72% 4 - train.z                 75% 4 - train.z                 77% 4 - train.z                 80% 4 - train.z                 82% 4 - train.z                 84% 4 - train.z                 87% 4 - train.z                 89% 4 - train.z                 91% 4 - train.z                 93% 4 - train.z                 95% 4 - train.z                 96% 4 - train.z                 97% 4 - train.z                 98% 4 - train.z                Everything is Ok\n",
      "\n",
      "Files: 5\n",
      "Size:       2266551144\n",
      "Compressed: 2266926306\n"
     ]
    }
   ],
   "source": [
    "! 7z x data/the-nature-conservancy-fisheries-monitoring.zip -o{\"data\"}"
   ]
  },
  {
   "cell_type": "code",
   "execution_count": 62,
   "metadata": {},
   "outputs": [],
   "source": [
    "! rm data/the-nature-conservancy-fisheries-monitoring.zip"
   ]
  },
  {
   "cell_type": "code",
   "execution_count": 17,
   "metadata": {},
   "outputs": [],
   "source": [
    "import os"
   ]
  },
  {
   "cell_type": "code",
   "execution_count": 63,
   "metadata": {},
   "outputs": [
    {
     "data": {
      "text/plain": [
       "['train.zip',\n",
       " 'test_stg2.7z',\n",
       " '.ipynb_checkpoints',\n",
       " 'sample_submission_stg2.csv.zip',\n",
       " 'test_stg1.zip',\n",
       " 'sample_submission_stg1.csv.zip']"
      ]
     },
     "execution_count": 63,
     "metadata": {},
     "output_type": "execute_result"
    }
   ],
   "source": [
    "files = os.listdir(\"data\"); files"
   ]
  },
  {
   "cell_type": "code",
   "execution_count": 64,
   "metadata": {},
   "outputs": [
    {
     "name": "stdout",
     "output_type": "stream",
     "text": [
      "\n",
      "7-Zip [64] 16.02 : Copyright (c) 1999-2016 Igor Pavlov : 2016-05-21\n",
      "p7zip Version 16.02 (locale=en_US.UTF-8,Utf16=on,HugeFiles=on,64 bits,4 CPUs Intel(R) Xeon(R) CPU @ 2.20GHz (406F0),ASM,AES-NI)\n",
      "\n",
      "Scanning the drive for archives:\n",
      "  0M Sca        1 file, 872167582 bytes (832 MiB)\n",
      "\n",
      "Extracting archive: data/train.zip\n",
      "--\n",
      "Path = data/train.zip\n",
      "Type = zip\n",
      "Physical Size = 872167582\n",
      "\n",
      "      2% 79 - train/ALB/img_00344.jp                                  4% 169 - train/ALB/img_00809.j                                  6% 261 - train/ALB/img_01183.j                                  9% 345 - train/ALB/img_01556.j                                 11% 431 - train/ALB/img_01919.j                                 13% 521 - train/ALB/img_02352.j                                 16% 613 - train/ALB/img_02768.j                                 18% 701 - train/ALB/img_03188.j                                 20% 786 - train/ALB/img_03556.j                                 23% 875 - train/ALB/img_03969.j                                 25% 961 - train/ALB/img_04433.j                                 27% 1048 - train/ALB/img_04893.jp                                   29% 1136 - train/ALB/img_05266.jp                                   31% 1221 - train/ALB/img_05694.jp                                   34% 1305 - train/ALB/img_06126.jp                                   35% 1386 - train/ALB/img_06560.jp                                   37% 1461 - train/ALB/img_06915.jp                                   40% 1541 - train/ALB/img_07197.jp                                   42% 1617 - train/ALB/img_07486.jp                                   43% 1694 - train/ALB/img_07802.jp                                   46% 1794 - train/BET/img_02647.jp                                   48% 1901 - train/BET/img_06827.jp                                   51% 2002 - train/DOL/img_05054.jp                                   53% 2083 - train/LAG/img_04734.jp                                   56% 2181 - train/NoF/img_00849.jp                                   58% 2295 - train/NoF/img_02930.jp                                   61% 2405 - train/NoF/img_04605.jp                                   63% 2528 - train/NoF/img_06969.jp                                   66% 2626 - train/OTHER/img_01425.jp                                     68% 2704 - train/OTHER/img_03526.jp                                     71% 2781 - train/OTHER/img_05310.jp                                     73% 2857 - train/OTHER/img_07451.jp                                     76% 2937 - train/SHARK/img_02718.jp                                     79% 3017 - train/SHARK/img_06303.jp                                     81% 3104 - train/YFT/img_00506.jp                                   84% 3206 - train/YFT/img_01691.jp                                   86% 3314 - train/YFT/img_02787.jp                                   89% 3408 - train/YFT/img_03721.jp                                   91% 3494 - train/YFT/img_04684.jp                                   94% 3583 - train/YFT/img_05708.jp                                   96% 3671 - train/YFT/img_06754.jp                                   99% 3756 - train/YFT/img_07595.jp                                  Everything is Ok\n",
      "\n",
      "Folders: 11\n",
      "Files: 3779\n",
      "Size:       883519374\n",
      "Compressed: 872167582\n",
      "\n",
      "7-Zip [64] 16.02 : Copyright (c) 1999-2016 Igor Pavlov : 2016-05-21\n",
      "p7zip Version 16.02 (locale=en_US.UTF-8,Utf16=on,HugeFiles=on,64 bits,4 CPUs Intel(R) Xeon(R) CPU @ 2.20GHz (406F0),ASM,AES-NI)\n",
      "\n",
      "Scanning the drive for archives:\n",
      "  0M Sca        1 file, 1152137421 bytes (1099 MiB)\n",
      "\n",
      "Extracting archive: data/test_stg2.7z\n",
      "--\n",
      "Path = data/test_stg2.7z\n",
      "Type = 7z\n",
      "Physical Size = 1152137421\n",
      "Headers Size = 82081\n",
      "Method = LZMA:25\n",
      "Solid = +\n",
      "Blocks = 1\n",
      "\n",
      "      0% - test_stg2/image_00001.j                                0% 38 - test_stg2/image_00039.jp                                    0% 80 - test_stg2/image_00081.jp                                    1% 125 - test_stg2/image_00126.j                                    1% 126 - test_stg2/image_00127.j                                    1% 171 - test_stg2/image_00172.j                                    1% 215 - test_stg2/image_00216.j                                    2% 257 - test_stg2/image_00258.j                                    2% 258 - test_stg2/image_00259.j                                    2% 297 - test_stg2/image_00298.j                                    3% 341 - test_stg2/image_00342.j                                    3% 385 - test_stg2/image_00386.j                                    3% 414 - test_stg2/image_00415.j                                    3% 432 - test_stg2/image_00433.j                                    4% 475 - test_stg2/image_00476.j                                    4% 516 - test_stg2/image_00517.j                                    4% 559 - test_stg2/image_00560.j                                    4% 560 - test_stg2/image_00561.j                                    5% 602 - test_stg2/image_00603.j                                    5% 645 - test_stg2/image_00646.j                                    5% 693 - test_stg2/image_00694.j                                    6% 693 - test_stg2/image_00694.j                                    6% 740 - test_stg2/image_00741.j                                    6% 787 - test_stg2/image_00788.j                                    6% 833 - test_stg2/image_00834.j                                    7% 834 - test_stg2/image_00835.j                                    7% 880 - test_stg2/image_00881.j                                    7% 922 - test_stg2/image_00923.j                                    8% 965 - test_stg2/image_00966.j                                    8% 966 - test_stg2/image_00967.j                                    8% 1013 - test_stg2/image_01014.jp                                      8% 1054 - test_stg2/image_01055.jp                                      9% 1097 - test_stg2/image_01098.jp                                      9% 1115 - test_stg2/image_01116.jp                                      9% 1140 - test_stg2/image_01141.jp                                      9% 1182 - test_stg2/image_01183.jp                                     10% 1224 - test_stg2/image_01225.jp                                     10% 1262 - test_stg2/image_01263.jp                                     10% 1269 - test_stg2/image_01270.jp                                     11% 1312 - test_stg2/image_01313.jp                                     11% 1358 - test_stg2/image_01359.jp                                     11% 1403 - test_stg2/image_01404.jp                                     11% 1404 - test_stg2/image_01405.jp                                     12% 1450 - test_stg2/image_01451.jp                                     12% 1492 - test_stg2/image_01493.jp                                     12% 1533 - test_stg2/image_01534.jp                                     12% 1534 - test_stg2/image_01535.jp                                     13% 1575 - test_stg2/image_01576.jp                                     13% 1619 - test_stg2/image_01620.jp                                     13% 1620 - test_stg2/image_01621.jp                                     13% 1661 - test_stg2/image_01662.jp                                     14% 1704 - test_stg2/image_01705.jp                                     14% 1705 - test_stg2/image_01706.jp                                     14% 1751 - test_stg2/image_01752.jp                                     14% 1791 - test_stg2/image_01792.jp                                     15% 1805 - test_stg2/image_01806.jp                                     15% 1835 - test_stg2/image_01836.jp                                     15% 1880 - test_stg2/image_01881.jp                                     15% 1904 - test_stg2/image_01905.jp                                     16% 1923 - test_stg2/image_01924.jp                                     16% 1967 - test_stg2/image_01968.jp                                     16% 1996 - test_stg2/image_01997.jp                                     16% 2012 - test_stg2/image_02013.jp                                     17% 2058 - test_stg2/image_02059.jp                                     17% 2096 - test_stg2/image_02097.jp                                     17% 2104 - test_stg2/image_02105.jp                                     17% 2119 - test_stg2/image_02120.jp                                     17% 2146 - test_stg2/image_02147.jp                                     18% 2191 - test_stg2/image_02192.jp                                     18% 2192 - test_stg2/image_02193.jp                                     18% 2234 - test_stg2/image_02235.jp                                     18% 2276 - test_stg2/image_02277.jp                                     18% 2277 - test_stg2/image_02278.jp                                     19% 2321 - test_stg2/image_02322.jp                                     19% 2365 - test_stg2/image_02366.jp                                     19% 2366 - test_stg2/image_02367.jp                                     19% 2410 - test_stg2/image_02411.jp                                     20% 2450 - test_stg2/image_02451.jp                                     20% 2451 - test_stg2/image_02452.jp                                     20% 2495 - test_stg2/image_02496.jp                                     20% 2537 - test_stg2/image_02538.jp                                     21% 2537 - test_stg2/image_02538.jp                                     21% 2538 - test_stg2/image_02539.jp                                     21% 2581 - test_stg2/image_02582.jp                                     21% 2627 - test_stg2/image_02628.jp                                     21% 2628 - test_stg2/image_02629.jp                                     22% 2674 - test_stg2/image_02675.jp                                     22% 2718 - test_stg2/image_02719.jp                                     22% 2719 - test_stg2/image_02720.jp                                     22% 2762 - test_stg2/image_02763.jp                                     23% 2806 - test_stg2/image_02807.jp                                     23% 2807 - test_stg2/image_02808.jp                                     23% 2850 - test_stg2/image_02851.jp                                     23% 2893 - test_stg2/image_02894.jp                                     24% 2893 - test_stg2/image_02894.jp                                     24% 2936 - test_stg2/image_02937.jp                                     24% 2977 - test_stg2/image_02978.jp                                     24% 2982 - test_stg2/image_02983.jp                                     24% 3027 - test_stg2/image_03028.jp                                     25% 3028 - test_stg2/image_03029.jp                                     25% 3071 - test_stg2/image_03072.jp                                     25% 3110 - test_stg2/image_03111.jp                                     25% 3111 - test_stg2/image_03112.jp                                     26% 3154 - test_stg2/image_03155.jp                                     26% 3197 - test_stg2/image_03198.jp                                     26% 3198 - test_stg2/image_03199.jp                                     26% 3241 - test_stg2/image_03242.jp                                     26% 3278 - test_stg2/image_03279.jp                                     27% 3278 - test_stg2/image_03279.jp                                     27% 3323 - test_stg2/image_03324.jp                                     27% 3333 - test_stg2/image_03334.jp                                     27% 3368 - test_stg2/image_03369.jp                                     28% 3414 - test_stg2/image_03415.jp                                     28% 3415 - test_stg2/image_03416.jp                                     28% 3455 - test_stg2/image_03456.jp                                     28% 3501 - test_stg2/image_03502.jp                                     29% 3501 - test_stg2/image_03502.jp                                     29% 3544 - test_stg2/image_03545.jp                                     29% 3568 - test_stg2/image_03569.jp                                     29% 3588 - test_stg2/image_03589.jp                                     29% 3631 - test_stg2/image_03632.jp                                     30% 3631 - test_stg2/image_03632.jp                                     30% 3673 - test_stg2/image_03674.jp                                     30% 3703 - test_stg2/image_03704.jp                                     30% 3719 - test_stg2/image_03720.jp                                     30% 3761 - test_stg2/image_03762.jp                                     31% 3762 - test_stg2/image_03763.jp                                     31% 3806 - test_stg2/image_03807.jp                                     31% 3839 - test_stg2/image_03840.jp                                     31% 3847 - test_stg2/image_03848.jp                                     32% 3893 - test_stg2/image_03894.jp                                     32% 3894 - test_stg2/image_03895.jp                                     32% 3937 - test_stg2/image_03938.jp                                     32% 3978 - test_stg2/image_03979.jp                                     32% 3980 - test_stg2/image_03981.jp                                     33% 4027 - test_stg2/image_04028.jp                                     33% 4038 - test_stg2/image_04039.jp                                     33% 4070 - test_stg2/image_04071.jp                                     33% 4110 - test_stg2/image_04111.jp                                     34% 4110 - test_stg2/image_04111.jp                                     34% 4152 - test_stg2/image_04153.jp                                     34% 4165 - test_stg2/image_04166.jp                                     34% 4194 - test_stg2/image_04195.jp                                     34% 4236 - test_stg2/image_04237.jp                                     35% 4236 - test_stg2/image_04237.jp                                     35% 4278 - test_stg2/image_04279.jp                                     35% 4298 - test_stg2/image_04299.jp                                     35% 4323 - test_stg2/image_04324.jp                                     35% 4371 - test_stg2/image_04372.jp                                     36% 4372 - test_stg2/image_04373.jp                                     36% 4417 - test_stg2/image_04418.jp                                     36% 4443 - test_stg2/image_04444.jp                                     36% 4456 - test_stg2/image_04457.jp                                     37% 4500 - test_stg2/image_04501.jp                                     37% 4501 - test_stg2/image_04502.jp                                     37% 4543 - test_stg2/image_04544.jp                                     37% 4576 - test_stg2/image_04577.jp                                     37% 4588 - test_stg2/image_04589.jp                                     38% 4634 - test_stg2/image_04635.jp                                     38% 4638 - test_stg2/image_04639.jp                                     38% 4679 - test_stg2/image_04680.jp                                     38% 4716 - test_stg2/image_04717.jp                                     39% 4719 - test_stg2/image_04720.jp                                     39% 4762 - test_stg2/image_04763.jp                                     39% 4767 - test_stg2/image_04768.jp                                     39% 4807 - test_stg2/image_04808.jp                                     39% 4813 - test_stg2/image_04814.jp                                     39% 4853 - test_stg2/image_04854.jp                                     40% 4864 - test_stg2/image_04865.jp                                     40% 4901 - test_stg2/image_04902.jp                                     40% 4915 - test_stg2/image_04916.jp                                     40% 4944 - test_stg2/image_04945.jp                                     40% 4988 - test_stg2/image_04989.jp                                     41% 4988 - test_stg2/image_04989.jp                                     41% 5032 - test_stg2/image_05033.jp                                     41% 5054 - test_stg2/image_05055.jp                                     41% 5075 - test_stg2/image_05076.jp                                     42% 5121 - test_stg2/image_05122.jp                                     42% 5122 - test_stg2/image_05123.jp                                     42% 5165 - test_stg2/image_05166.jp                                     42% 5190 - test_stg2/image_05191.jp                                     42% 5210 - test_stg2/image_05211.jp                                     42% 5237 - test_stg2/image_05238.jp                                     43% 5255 - test_stg2/image_05256.jp                                     43% 5284 - test_stg2/image_05285.jp                                     43% 5297 - test_stg2/image_05298.jp                                     43% 5340 - test_stg2/image_05341.jp                                     44% 5341 - test_stg2/image_05342.jp                                     44% 5382 - test_stg2/image_05383.jp                                     44% 5383 - test_stg2/image_05384.jp                                     44% 5427 - test_stg2/image_05428.jp                                     44% 5433 - test_stg2/image_05434.jp                                     44% 5469 - test_stg2/image_05470.jp                                     45% 5476 - test_stg2/image_05477.jp                                     45% 5518 - test_stg2/image_05519.jp                                     45% 5526 - test_stg2/image_05527.jp                                     45% 5560 - test_stg2/image_05561.jp                                     45% 5572 - test_stg2/image_05573.jp                                     46% 5602 - test_stg2/image_05603.jp                                     46% 5642 - test_stg2/image_05643.jp                                     46% 5645 - test_stg2/image_05646.jp                                     46% 5686 - test_stg2/image_05687.jp                                     46% 5688 - test_stg2/image_05689.jp                                     47% 5730 - test_stg2/image_05731.jp                                     47% 5731 - test_stg2/image_05732.jp                                     47% 5772 - test_stg2/image_05773.jp                                     47% 5791 - test_stg2/image_05792.jp                                     47% 5816 - test_stg2/image_05817.jp                                     47% 5836 - test_stg2/image_05837.jp                                     48% 5858 - test_stg2/image_05859.jp                                     48% 5880 - test_stg2/image_05881.jp                                     48% 5898 - test_stg2/image_05899.jp                                     48% 5917 - test_stg2/image_05918.jp                                     48% 5941 - test_stg2/image_05942.jp                                     49% 5966 - test_stg2/image_05967.jp                                     49% 5986 - test_stg2/image_05987.jp                                     49% 6010 - test_stg2/image_06011.jp                                     49% 6030 - test_stg2/image_06031.jp                                     49% 6054 - test_stg2/image_06055.jp                                     50% 6072 - test_stg2/image_06073.jp                                     50% 6100 - test_stg2/image_06101.jp                                     50% 6118 - test_stg2/image_06119.jp                                     50% 6149 - test_stg2/image_06150.jp                                     50% 6163 - test_stg2/image_06164.jp                                     50% 6195 - test_stg2/image_06196.jp                                     51% 6207 - test_stg2/image_06208.jp                                     51% 6241 - test_stg2/image_06242.jp                                     51% 6249 - test_stg2/image_06250.jp                                     51% 6284 - test_stg2/image_06285.jp                                     51% 6294 - test_stg2/image_06295.jp                                     51% 6331 - test_stg2/image_06332.jp                                     52% 6339 - test_stg2/image_06340.jp                                     52% 6375 - test_stg2/image_06376.jp                                     52% 6384 - test_stg2/image_06385.jp                                     52% 6423 - test_stg2/image_06424.jp                                     52% 6427 - test_stg2/image_06428.jp                                     53% 6457 - test_stg2/image_06458.jp                                     53% 6472 - test_stg2/image_06473.jp                                     53% 6513 - test_stg2/image_06514.jp                                     53% 6516 - test_stg2/image_06517.jp                                     53% 6554 - test_stg2/image_06555.jp                                     54% 6555 - test_stg2/image_06556.jp                                     54% 6598 - test_stg2/image_06599.jp                                     54% 6599 - test_stg2/image_06600.jp                                     54% 6642 - test_stg2/image_06643.jp                                     54% 6643 - test_stg2/image_06644.jp                                     54% 6686 - test_stg2/image_06687.jp                                     55% 6687 - test_stg2/image_06688.jp                                     55% 6729 - test_stg2/image_06730.jp                                     55% 6730 - test_stg2/image_06731.jp                                     55% 6769 - test_stg2/image_06770.jp                                     55% 6771 - test_stg2/image_06772.jp                                     56% 6814 - test_stg2/image_06815.jp                                     56% 6818 - test_stg2/image_06819.jp                                     56% 6856 - test_stg2/image_06857.jp                                     56% 6860 - test_stg2/image_06861.jp                                     56% 6897 - test_stg2/image_06898.jp                                     56% 6903 - test_stg2/image_06904.jp                                     57% 6941 - test_stg2/image_06942.jp                                     57% 6942 - test_stg2/image_06943.jp                                     57% 6984 - test_stg2/image_06985.jp                                     57% 6993 - test_stg2/image_06994.jp                                     57% 7027 - test_stg2/image_07028.jp                                     58% 7036 - test_stg2/image_07037.jp                                     58% 7073 - test_stg2/image_07074.jp                                     58% 7084 - test_stg2/image_07085.jp                                     58% 7115 - test_stg2/image_07116.jp                                     58% 7127 - test_stg2/image_07128.jp                                     58% 7156 - test_stg2/image_07157.jp                                     59% 7169 - test_stg2/image_07170.jp                                     59% 7203 - test_stg2/image_07204.jp                                     59% 7219 - test_stg2/image_07220.jp                                     59% 7246 - test_stg2/image_07247.jp                                     59% 7261 - test_stg2/image_07262.jp                                     60% 7289 - test_stg2/image_07290.jp                                     60% 7304 - test_stg2/image_07305.jp                                     60% 7332 - test_stg2/image_07333.jp                                     60% 7350 - test_stg2/image_07351.jp                                     60% 7377 - test_stg2/image_07378.jp                                     60% 7397 - test_stg2/image_07398.jp                                     61% 7421 - test_stg2/image_07422.jp                                     61% 7431 - test_stg2/image_07432.jp                                     61% 7463 - test_stg2/image_07464.jp                                     61% 7464 - test_stg2/image_07465.jp                                     61% 7505 - test_stg2/image_07506.jp                                     61% 7506 - test_stg2/image_07507.jp                                     62% 7545 - test_stg2/image_07546.jp                                     62% 7548 - test_stg2/image_07549.jp                                     62% 7588 - test_stg2/image_07589.jp                                     62% 7593 - test_stg2/image_07594.jp                                     62% 7636 - test_stg2/image_07637.jp                                     63% 7641 - test_stg2/image_07642.jp                                     63% 7681 - test_stg2/image_07682.jp                                     63% 7688 - test_stg2/image_07689.jp                                     63% 7726 - test_stg2/image_07727.jp                                     63% 7734 - test_stg2/image_07735.jp                                     63% 7771 - test_stg2/image_07772.jp                                     64% 7780 - test_stg2/image_07781.jp                                     64% 7811 - test_stg2/image_07812.jp                                     64% 7821 - test_stg2/image_07822.jp                                     64% 7856 - test_stg2/image_07857.jp                                     64% 7867 - test_stg2/image_07868.jp                                     65% 7895 - test_stg2/image_07896.jp                                     65% 7906 - test_stg2/image_07907.jp                                     65% 7941 - test_stg2/image_07942.jp                                     65% 7942 - test_stg2/image_07943.jp                                     65% 7983 - test_stg2/image_07984.jp                                     65% 7984 - test_stg2/image_07985.jp                                     66% 8025 - test_stg2/image_08026.jp                                     66% 8026 - test_stg2/image_08027.jp                                     66% 8067 - test_stg2/image_08068.jp                                     66% 8068 - test_stg2/image_08069.jp                                     66% 8109 - test_stg2/image_08110.jp                                     66% 8110 - test_stg2/image_08111.jp                                     67% 8152 - test_stg2/image_08153.jp                                     67% 8153 - test_stg2/image_08154.jp                                     67% 8194 - test_stg2/image_08195.jp                                     67% 8195 - test_stg2/image_08196.jp                                     67% 8240 - test_stg2/image_08241.jp                                     68% 8241 - test_stg2/image_08242.jp                                     68% 8277 - test_stg2/image_08278.jp                                     68% 8279 - test_stg2/image_08280.jp                                     68% 8324 - test_stg2/image_08325.jp                                     68% 8325 - test_stg2/image_08326.jp                                     68% 8365 - test_stg2/image_08366.jp                                     69% 8366 - test_stg2/image_08367.jp                                     69% 8389 - test_stg2/image_08390.jp                                     69% 8404 - test_stg2/image_08405.jp                                     69% 8426 - test_stg2/image_08427.jp                                     69% 8448 - test_stg2/image_08449.jp                                     69% 8454 - test_stg2/image_08455.jp                                     70% 8489 - test_stg2/image_08490.jp                                     70% 8496 - test_stg2/image_08497.jp                                     70% 8532 - test_stg2/image_08533.jp                                     70% 8540 - test_stg2/image_08541.jp                                     70% 8577 - test_stg2/image_08578.jp                                     70% 8584 - test_stg2/image_08585.jp                                     71% 8615 - test_stg2/image_08616.jp                                     71% 8625 - test_stg2/image_08626.jp                                     71% 8660 - test_stg2/image_08661.jp                                     71% 8671 - test_stg2/image_08672.jp                                     71% 8706 - test_stg2/image_08707.jp                                     72% 8706 - test_stg2/image_08707.jp                                     72% 8746 - test_stg2/image_08747.jp                                     72% 8747 - test_stg2/image_08748.jp                                     72% 8787 - test_stg2/image_08788.jp                                     72% 8788 - test_stg2/image_08789.jp                                     72% 8829 - test_stg2/image_08830.jp                                     73% 8830 - test_stg2/image_08831.jp                                     73% 8877 - test_stg2/image_08878.jp                                     73% 8878 - test_stg2/image_08879.jp                                     73% 8912 - test_stg2/image_08913.jp                                     73% 8919 - test_stg2/image_08920.jp                                     73% 8953 - test_stg2/image_08954.jp                                     74% 8961 - test_stg2/image_08962.jp                                     74% 8996 - test_stg2/image_08997.jp                                     74% 9005 - test_stg2/image_09006.jp                                     74% 9024 - test_stg2/image_09025.jp                                     74% 9047 - test_stg2/image_09048.jp                                     74% 9066 - test_stg2/image_09067.jp                                     75% 9095 - test_stg2/image_09096.jp                                     75% 9099 - test_stg2/image_09100.jp                                     75% 9137 - test_stg2/image_09138.jp                                     75% 9142 - test_stg2/image_09143.jp                                     75% 9181 - test_stg2/image_09182.jp                                     75% 9182 - test_stg2/image_09183.jp                                     76% 9226 - test_stg2/image_09227.jp                                     76% 9227 - test_stg2/image_09228.jp                                     76% 9271 - test_stg2/image_09272.jp                                     76% 9272 - test_stg2/image_09273.jp                                     76% 9315 - test_stg2/image_09316.jp                                     77% 9315 - test_stg2/image_09316.jp                                     77% 9355 - test_stg2/image_09356.jp                                     77% 9362 - test_stg2/image_09363.jp                                     77% 9389 - test_stg2/image_09390.jp                                     77% 9404 - test_stg2/image_09405.jp                                     77% 9432 - test_stg2/image_09433.jp                                     77% 9449 - test_stg2/image_09450.jp                                     78% 9461 - test_stg2/image_09462.jp                                     78% 9495 - test_stg2/image_09496.jp                                     78% 9496 - test_stg2/image_09497.jp                                     78% 9536 - test_stg2/image_09537.jp                                     78% 9537 - test_stg2/image_09538.jp                                     78% 9579 - test_stg2/image_09580.jp                                     79% 9580 - test_stg2/image_09581.jp                                     79% 9622 - test_stg2/image_09623.jp                                     79% 9623 - test_stg2/image_09624.jp                                     79% 9666 - test_stg2/image_09667.jp                                     79% 9667 - test_stg2/image_09668.jp                                     80% 9707 - test_stg2/image_09708.jp                                     80% 9708 - test_stg2/image_09709.jp                                     80% 9745 - test_stg2/image_09746.jp                                     80% 9751 - test_stg2/image_09752.jp                                     80% 9769 - test_stg2/image_09770.jp                                     80% 9795 - test_stg2/image_09796.jp                                     80% 9796 - test_stg2/image_09797.jp                                     81% 9836 - test_stg2/image_09837.jp                                     81% 9837 - test_stg2/image_09838.jp                                     81% 9877 - test_stg2/image_09878.jp                                     81% 9878 - test_stg2/image_09879.jp                                     81% 9922 - test_stg2/image_09923.jp                                     82% 9922 - test_stg2/image_09923.jp                                     82% 9961 - test_stg2/image_09962.jp                                     82% 9966 - test_stg2/image_09967.jp                                     82% 9988 - test_stg2/image_09989.jp                                     82% 10014 - test_stg2/image_10015.j                                     82% 10023 - test_stg2/image_10024.j                                     82% 10058 - test_stg2/image_10059.j                                     83% 10058 - test_stg2/image_10059.j                                     83% 10099 - test_stg2/image_10100.j                                     83% 10101 - test_stg2/image_10102.j                                     83% 10127 - test_stg2/image_10128.j                                     83% 10147 - test_stg2/image_10148.j                                     83% 10158 - test_stg2/image_10159.j                                     84% 10190 - test_stg2/image_10191.j                                     84% 10191 - test_stg2/image_10192.j                                     84% 10233 - test_stg2/image_10234.j                                     84% 10237 - test_stg2/image_10238.j                                     84% 10263 - test_stg2/image_10264.j                                     84% 10279 - test_stg2/image_10280.j                                     84% 10293 - test_stg2/image_10294.j                                     85% 10323 - test_stg2/image_10324.j                                     85% 10324 - test_stg2/image_10325.j                                     85% 10362 - test_stg2/image_10363.j                                     85% 10363 - test_stg2/image_10364.j                                     85% 10404 - test_stg2/image_10405.j                                     86% 10404 - test_stg2/image_10405.j                                     86% 10435 - test_stg2/image_10436.j                                     86% 10447 - test_stg2/image_10448.j                                     86% 10464 - test_stg2/image_10465.j                                     86% 10494 - test_stg2/image_10495.j                                     86% 10495 - test_stg2/image_10496.j                                     86% 10537 - test_stg2/image_10538.j                                     87% 10540 - test_stg2/image_10541.j                                     87% 10575 - test_stg2/image_10576.j                                     87% 10580 - test_stg2/image_10581.j                                     87% 10599 - test_stg2/image_10600.j                                     87% 10622 - test_stg2/image_10623.j                                     87% 10627 - test_stg2/image_10628.j                                     87% 10668 - test_stg2/image_10669.j                                     88% 10668 - test_stg2/image_10669.j                                     88% 10703 - test_stg2/image_10704.j                                     88% 10712 - test_stg2/image_10713.j                                     88% 10734 - test_stg2/image_10735.j                                     88% 10754 - test_stg2/image_10755.j                                     88% 10761 - test_stg2/image_10762.j                                     89% 10797 - test_stg2/image_10798.j                                     89% 10798 - test_stg2/image_10799.j                                     89% 10839 - test_stg2/image_10840.j                                     89% 10842 - test_stg2/image_10843.j                                     89% 10866 - test_stg2/image_10867.j                                     89% 10887 - test_stg2/image_10888.j                                     90% 10898 - test_stg2/image_10899.j                                     90% 10934 - test_stg2/image_10935.j                                     90% 10935 - test_stg2/image_10936.j                                     90% 10975 - test_stg2/image_10976.j                                     90% 10976 - test_stg2/image_10977.j                                     90% 11015 - test_stg2/image_11016.j                                     91% 11023 - test_stg2/image_11024.j                                     91% 11050 - test_stg2/image_11051.j                                     91% 11066 - test_stg2/image_11067.j                                     91% 11067 - test_stg2/image_11068.j                                     91% 11105 - test_stg2/image_11106.j                                     91% 11109 - test_stg2/image_11110.j                                     91% 11137 - test_stg2/image_11138.j                                     91% 11157 - test_stg2/image_11158.j                                     92% 11159 - test_stg2/image_11160.j                                     92% 11198 - test_stg2/image_11199.j                                     92% 11203 - test_stg2/image_11204.j                                     92% 11234 - test_stg2/image_11235.j                                     92% 11248 - test_stg2/image_11249.j                                     92% 11265 - test_stg2/image_11266.j                                     93% 11292 - test_stg2/image_11293.j                                     93% 11297 - test_stg2/image_11298.j                                     93% 11334 - test_stg2/image_11335.j                                     93% 11335 - test_stg2/image_11336.j                                     93% 11373 - test_stg2/image_11374.j                                     93% 11377 - test_stg2/image_11378.j                                     93% 11396 - test_stg2/image_11397.j                                     94% 11424 - test_stg2/image_11425.j                                     94% 11431 - test_stg2/image_11432.j                                     94% 11468 - test_stg2/image_11469.j                                     94% 11469 - test_stg2/image_11470.j                                     94% 11507 - test_stg2/image_11508.j                                     94% 11516 - test_stg2/image_11517.j                                     95% 11538 - test_stg2/image_11539.j                                     95% 11554 - test_stg2/image_11555.j                                     95% 11562 - test_stg2/image_11563.j                                     95% 11597 - test_stg2/image_11598.j                                     95% 11598 - test_stg2/image_11599.j                                     95% 11635 - test_stg2/image_11636.j                                     96% 11643 - test_stg2/image_11644.j                                     96% 11668 - test_stg2/image_11669.j                                     96% 11687 - test_stg2/image_11688.j                                     96% 11698 - test_stg2/image_11699.j                                     96% 11728 - test_stg2/image_11729.j                                     96% 11729 - test_stg2/image_11730.j                                     96% 11767 - test_stg2/image_11768.j                                     97% 11769 - test_stg2/image_11770.j                                     97% 11795 - test_stg2/image_11796.j                                     97% 11812 - test_stg2/image_11813.j                                     97% 11824 - test_stg2/image_11825.j                                     97% 11856 - test_stg2/image_11857.j                                     97% 11857 - test_stg2/image_11858.j                                     97% 11894 - test_stg2/image_11895.j                                     98% 11897 - test_stg2/image_11898.j                                     98% 11925 - test_stg2/image_11926.j                                     98% 11941 - test_stg2/image_11942.j                                     98% 11957 - test_stg2/image_11958.j                                     98% 11987 - test_stg2/image_11988.j                                     98% 11988 - test_stg2/image_11989.j                                     98% 12025 - test_stg2/image_12026.j                                     99% 12029 - test_stg2/image_12030.j                                     99% 12047 - test_stg2/image_12048.j                                     99% 12073 - test_stg2/image_12074.j                                     99% 12078 - test_stg2/image_12079.j                                     99% 12115 - test_stg2/image_12116.j                                     99% 12117 - test_stg2/image_12118.j                                     99% 12145 - test_stg2/image_12146.j                                    Everything is Ok\n",
      "\n",
      "Folders: 1\n",
      "Files: 12153\n",
      "Size:       1169524391\n",
      "Compressed: 1152137421\n",
      "\n",
      "7-Zip [64] 16.02 : Copyright (c) 1999-2016 Igor Pavlov : 2016-05-21\n",
      "p7zip Version 16.02 (locale=en_US.UTF-8,Utf16=on,HugeFiles=on,64 bits,4 CPUs Intel(R) Xeon(R) CPU @ 2.20GHz (406F0),ASM,AES-NI)\n",
      "\n",
      "Scanning the drive for archives:\n",
      "  0M Sca        \n",
      "\n",
      "Command Line Error:\n",
      "Cannot find archive\n",
      "\n",
      "7-Zip [64] 16.02 : Copyright (c) 1999-2016 Igor Pavlov : 2016-05-21\n",
      "p7zip Version 16.02 (locale=en_US.UTF-8,Utf16=on,HugeFiles=on,64 bits,4 CPUs Intel(R) Xeon(R) CPU @ 2.20GHz (406F0),ASM,AES-NI)\n",
      "\n",
      "Scanning the drive for archives:\n",
      "  0M Sca        1 file, 36697 bytes (36 KiB)\n",
      "\n",
      "Extracting archive: data/sample_submission_stg2.csv.zip\n",
      "--\n",
      "Path = data/sample_submission_stg2.csv.zip\n",
      "Type = zip\n",
      "Physical Size = 36697\n",
      "\n",
      "    Everything is Ok\n",
      "\n",
      "Size:       1277036\n",
      "Compressed: 36697\n",
      "\n",
      "7-Zip [64] 16.02 : Copyright (c) 1999-2016 Igor Pavlov : 2016-05-21\n",
      "p7zip Version 16.02 (locale=en_US.UTF-8,Utf16=on,HugeFiles=on,64 bits,4 CPUs Intel(R) Xeon(R) CPU @ 2.20GHz (406F0),ASM,AES-NI)\n",
      "\n",
      "Scanning the drive for archives:\n",
      "  0M Sca        1 file, 242205616 bytes (231 MiB)\n",
      "\n",
      "Extracting archive: data/test_stg1.zip\n",
      "--\n",
      "Path = data/test_stg1.zip\n",
      "Type = zip\n",
      "Physical Size = 242205616\n",
      "\n",
      "      8% 85 - test_stg1/img_00646.jp                                 18% 188 - test_stg1/img_01495.j                                 28% 284 - test_stg1/img_02299.j                                 37% 378 - test_stg1/img_03082.j                                 46% 467 - test_stg1/img_03847.j                                 54% 553 - test_stg1/img_04415.j                                 63% 637 - test_stg1/img_05119.j                                 71% 712 - test_stg1/img_05672.j                                 77% 772 - test_stg1/img_06067.j                                 85% 852 - test_stg1/img_06698.j                                 93% 935 - test_stg1/img_07278.j                                Everything is Ok\n",
      "\n",
      "Folders: 1\n",
      "Files: 1000\n",
      "Size:       245033453\n",
      "Compressed: 242205616\n",
      "\n",
      "7-Zip [64] 16.02 : Copyright (c) 1999-2016 Igor Pavlov : 2016-05-21\n",
      "p7zip Version 16.02 (locale=en_US.UTF-8,Utf16=on,HugeFiles=on,64 bits,4 CPUs Intel(R) Xeon(R) CPU @ 2.20GHz (406F0),ASM,AES-NI)\n",
      "\n",
      "Scanning the drive for archives:\n",
      "  0M Sca        1 file, 3828 bytes (4 KiB)\n",
      "\n",
      "Extracting archive: data/sample_submission_stg1.csv.zip\n",
      "--\n",
      "Path = data/sample_submission_stg1.csv.zip\n",
      "Type = zip\n",
      "Physical Size = 3828\n",
      "\n",
      "    Everything is Ok\n",
      "\n",
      "Size:       175042\n",
      "Compressed: 3828\n"
     ]
    }
   ],
   "source": [
    "for file_name in files: \n",
    "    file_path = 'data/' + file_name\n",
    "    ! 7z x $file_path -o{\"data\"} && rm $file_path"
   ]
  }
 ],
 "metadata": {
  "environment": {
   "name": "pytorch-gpu.1-4.m55",
   "type": "gcloud",
   "uri": "gcr.io/deeplearning-platform-release/pytorch-gpu.1-4:m55"
  },
  "kernelspec": {
   "display_name": "Python 3",
   "language": "python",
   "name": "python3"
  },
  "language_info": {
   "codemirror_mode": {
    "name": "ipython",
    "version": 3
   },
   "file_extension": ".py",
   "mimetype": "text/x-python",
   "name": "python",
   "nbconvert_exporter": "python",
   "pygments_lexer": "ipython3",
   "version": "3.7.8"
  }
 },
 "nbformat": 4,
 "nbformat_minor": 4
}
